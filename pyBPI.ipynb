{
 "cells": [
  {
   "cell_type": "markdown",
   "metadata": {},
   "source": [
    "## Topographic Relative Position: Bathymetric Position Index (BPI)   \n",
    "Developed in November 2023 by Dr. Larry Syu-Heng Lai (University of Washington)  \n",
    "\n",
    "Recommended reference:\n",
    "* Wilson, M.F.J., O’Connell, B., Brown, C., Guinan, J.C., Grehan, A.J., 2007. Multiscale Terrain Analysis of Multibeam Bathymetry Data for Habitat Mapping on the Continental Slope. Marine Geodesy 30, 3-35. https://doi.org/10.1080/01490410701295962 "
   ]
  },
  {
   "cell_type": "markdown",
   "metadata": {},
   "source": [
    "### Initial setup"
   ]
  },
  {
   "cell_type": "code",
   "execution_count": null,
   "metadata": {},
   "outputs": [],
   "source": [
    "import numpy as np\n",
    "import rasterio\n",
    "from scipy.ndimage import uniform_filter"
   ]
  },
  {
   "cell_type": "markdown",
   "metadata": {},
   "source": [
    "### Define data path"
   ]
  },
  {
   "cell_type": "code",
   "execution_count": null,
   "metadata": {},
   "outputs": [],
   "source": [
    "# Define your file paths and file names separately\n",
    "input_folder = '/Users/larryslai/Library/CloudStorage/Dropbox/QGIS/WA LiDAR/'\n",
    "input_file_name = 'Test_DEM.tif'\n",
    "#input_file_name = 'Tokeland_DEM.tif'\n",
    "#input_file_name = 'Nemah_DEM.tif'\n",
    "#input_file_name = 'Francies_DEM.tif'\n",
    "\n",
    "output_folder = '/Users/larryslai/Library/CloudStorage/Dropbox/QGIS/WA LiDAR/'\n",
    "output_file_name = 'Test_pyBPI.tif'\n",
    "#output_file_name = 'Tokeland_pyBPI.tif'\n",
    "#output_file_name = 'Nemah_pyBPI.tif'\n",
    "#output_file_name = 'Francies_pyBPI.tif'\n",
    "\n",
    "# Combine folder and file names to create the full paths\n",
    "input_tif_path = input_folder + input_file_name\n",
    "output_tif_path = output_folder + output_file_name"
   ]
  },
  {
   "cell_type": "markdown",
   "metadata": {},
   "source": [
    "### Read a DEM"
   ]
  },
  {
   "cell_type": "code",
   "execution_count": null,
   "metadata": {},
   "outputs": [],
   "source": [
    "with rasterio.open(input_tif_path) as src:\n",
    "    dem = src.read(1)  # Read the first band into a 2D array\n",
    "    meta = src.meta"
   ]
  },
  {
   "cell_type": "markdown",
   "metadata": {},
   "source": [
    "See coordinate system info of the GeoTIFF"
   ]
  },
  {
   "cell_type": "code",
   "execution_count": null,
   "metadata": {},
   "outputs": [],
   "source": [
    "# Open the GeoTIFF file\n",
    "with rasterio.open(input_tif_path) as src:\n",
    "    # Read the CRS\n",
    "    crs = src.crs\n",
    "    \n",
    "    # Print the CRS information\n",
    "    print(f\"CRS: {crs}\")\n",
    "    print(f\"CRS as WKT: {crs.wkt}\")\n",
    "    print(f\"CRS as PROJ string: {crs.to_proj4()}\")\n",
    "    print(f\"CRS as EPSG code: {crs.to_epsg()}\")\n",
    "    print(f\"CRS as dictionary: {crs.to_dict()}\")"
   ]
  },
  {
   "cell_type": "markdown",
   "metadata": {},
   "source": [
    "## Bathymetric Position Index (BPI)\n",
    "\n",
    "The Bathymetric Position Index (BPI) measures the topographic position of a point relative to the surrounding sea floor. It identifies whether a point is in a topographic high, low, or a slope. BPI is calculated by comparing the elevation of a cell to the mean elevation of its surrounding cells within a specified neighborhood. The equation for BPI is:\n",
    "\n",
    "$$\n",
    "BPI = Z_{\\text{cell}} - \\text{mean}(Z_{\\text{neighborhood}})\n",
    "$$\n",
    "\n",
    "where:\n",
    "- $ Z_{\\text{cell}} $ is the elevation of the cell.\n",
    "- $ \\text{mean}(Z_{\\text{neighborhood}}) $ is the mean elevation of the surrounding neighborhood.\n"
   ]
  },
  {
   "cell_type": "markdown",
   "metadata": {},
   "source": [
    "##### BPI function  "
   ]
  },
  {
   "cell_type": "code",
   "execution_count": null,
   "metadata": {},
   "outputs": [],
   "source": [
    "def calculate_BPI(dem, window_size):\n",
    "    \"\"\"\n",
    "    Calculate the Bathymetric Position Index (BPI) for a digital elevation model (DEM).\n",
    "    \n",
    "    :param dem: A 2D numpy array of the DEM.\n",
    "    :param window_size: The size of the window to calculate the mean elevation (must be an odd number).\n",
    "    :return: A 2D numpy array of the BPI.\n",
    "    \"\"\"\n",
    "    # Calculate the mean elevation within the window\n",
    "    mean_elevation = uniform_filter(dem, size=window_size, mode='nearest')\n",
    "    \n",
    "    # BPI is the difference between the cell elevation and the mean elevation\n",
    "    BPI = dem - mean_elevation\n",
    "    return BPI"
   ]
  },
  {
   "cell_type": "code",
   "execution_count": null,
   "metadata": {},
   "outputs": [],
   "source": [
    "def calculate_BPI(dem, window_size):\n",
    "    \"\"\"\n",
    "    Calculate the Bathymetric Position Index (BPI) for a digital elevation model (DEM).\n",
    "    \n",
    "    :param dem: A 2D numpy array of the DEM.\n",
    "    :param window_size: The size of the window to calculate the mean elevation (must be an odd number).\n",
    "    :return: A 2D numpy array of the BPI.\n",
    "    \"\"\"\n",
    "    # Calculate the mean elevation within the window\n",
    "    mean_elevation = uniform_filter(dem, size=window_size, mode='nearest')\n",
    "    \n",
    "    # BPI is the difference between the cell elevation and the mean elevation\n",
    "    BPI = dem - mean_elevation\n",
    "    return BPI"
   ]
  },
  {
   "cell_type": "markdown",
   "metadata": {},
   "source": [
    "Calculate BPI with a given window"
   ]
  },
  {
   "cell_type": "code",
   "execution_count": null,
   "metadata": {},
   "outputs": [],
   "source": [
    "# Calculate with a N x N window as an example\n",
    "window_size = 15  # Replace with the desired window size\n",
    "\n",
    "# Calculate BPI\n",
    "BPI = calculate_BPI(dem, window_size)"
   ]
  },
  {
   "cell_type": "markdown",
   "metadata": {},
   "source": [
    "Output data into GeoTIFF\n",
    "* Enabling geotiff compression to reduce writing time\n",
    "* Enabling Tile-based writing if needed\n",
    "* Enabling BIGTIFF parameter to allow writing a large GeoTIFF"
   ]
  },
  {
   "cell_type": "code",
   "execution_count": null,
   "metadata": {},
   "outputs": [],
   "source": [
    "# Update metadata for output GeoTIFF\n",
    "meta.update(dtype=rasterio.float32, compress='lzw', tiled=True, bigtiff='IF_SAFER')\n",
    "\n",
    "# Write BPI to a new GeoTIFF\n",
    "with rasterio.open(output_tif_path, 'w', **meta) as dst:\n",
    "    dst.write(BPI.astype(rasterio.float32), 1)"
   ]
  }
 ],
 "metadata": {
  "kernelspec": {
   "display_name": "base",
   "language": "python",
   "name": "python3"
  },
  "language_info": {
   "codemirror_mode": {
    "name": "ipython",
    "version": 3
   },
   "file_extension": ".py",
   "mimetype": "text/x-python",
   "name": "python",
   "nbconvert_exporter": "python",
   "pygments_lexer": "ipython3",
   "version": "3.10.11"
  }
 },
 "nbformat": 4,
 "nbformat_minor": 2
}
