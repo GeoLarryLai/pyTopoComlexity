{
 "cells": [
  {
   "cell_type": "markdown",
   "metadata": {},
   "source": [
    "## pyTopoComplexity (v0.5.4)\n",
    "### **Landform Smoothing via Nonlinear Hillslope Diffusion Modeling**\n",
    "\n",
    "This notebook demonstrates the use of **Landlab** (Hobley et al., 2017), a open-source Python framework for simulating landscape evolution, to model topographic smoothing driven by near-surface soil disturbance and downslope soil creep processes. Specifically, this notebook employs the `TaylorNonLinearDiffuser` component from LandLab, described as one element in the **terrainBento** package (Barnhart et al., 2019), to simulate topographic smoothing over time through non-linear hillslope diffusion processes (Roering et al., 1999).\n",
    "\n",
    "The example GeoTIFF rasters include the LiDAR Digital Elevation Model (DEM) files that cover the area and nearby region of a deep-seated landslide occurred in 2014 at Oso area of the North Fork Stillaguamish River (NFSR) valley, Washington State, USA (Washington Geological Survey, 2023). The example DEMs have various grid size, coordinate reference system (CRS), and unit of grid value (elevation, Z). \n",
    "\n",
    "**WARNING**: There is a known/unresolved stability issue when running `TaylorNonLinearDiffuser` component with a DEM with reprojected coordinate reference system (CRS) through GIS softwares. When using the example DEM, users may only use the original DEM with CRS: NAD83/Washington South (ftUS) (EPSG: 2286) and Z unit in US survey feet (e.g., the DEM files named with *\"_f_3ftgrid\"* or *\"_f_6ftgrid\"*).\n",
    "\n",
    "To use this code, please cite the Zenodo repository that hosts the latest release of this code: \n",
    "* Lai, L. S.-H. (2024). pyTopoComplexity. Zenodo. https://doi.org/10.5281/zenodo.11239338\n",
    "* Github repository: https://github.com/LarrySHLai/pyTopoComlexity\n",
    "\n",
    "<hr>\n",
    "<small>For more about Landlab installation and tutorials, visit: <a href=\"https://landlab.readthedocs.io/en/latest/index.html\">https://landlab.readthedocs.io/en/latest/index.html</a></small>\n",
    "<hr>"
   ]
  },
  {
   "cell_type": "markdown",
   "metadata": {},
   "source": [
    "### **Theory** (adapted from **Landlab**'s tutorials)\n",
    "Consider a topographic surface where the elevation at any time $t$ and horizontal position $(x,y)$ is $z(x,y,t)$. Let $\\mathbf{q}_s$ be a 2D vector representing the rate of soil volume flow per unit slope width (with dimensions of length squared per time; we'll assume that $\\mathbf{q}_s$ represents a \"bulk\" flux that includes pore spaces between soil grains).\n",
    "In the absence of any \"local\" input sources (such as weathering of rock) or output (such as removal by wash erosion), conservation of mass dictates that:\n",
    "\n",
    "$$\\frac{\\partial z}{\\partial t} = -\\nabla \\cdot \\mathbf{q}_s$$\n",
    "\n",
    "The soil flux ($\\mathbf{q}_s$) can be represented as:\n",
    "\n",
    "$$\\mathbf{q}_s = D \\mathbf{S} \\left[1 + \\sum_{i=1}^N \\left( \\frac{S}{S_c}\\right)^{2i}\\right]$$\n",
    "\n",
    ", where $\\mathbf{S} = -\\nabla z$ is the downslope topographic gradient, and $S$ is its magnitude. Parameter $K$ is a diffusion-like transport coefficient with dimensions of length squared per time. The $i$ is the number of additional terms desired. If $i=0$, the expression reduces to plain linear diffusion.\n",
    "\n",
    "The simulation takes into account the critical slope gradient ($S_c$) and uses a Taylor expansion to approximate the nonlinear diffusion process. Inspired by Ganti et al. (2012), the `TaylorNonLinearDiffuser` component uses a slope-dependent flux law with a user-specified number of terms in a Taylor expansion. This approximates the Andrews-Bucknam transport function (e.g., Roering et al., 1999) while avoiding that equation's blow-up at $S=S_c$.\n",
    "<hr>"
   ]
  },
  {
   "cell_type": "markdown",
   "metadata": {},
   "source": [
    "### **References**\n",
    "##### Journal Articles: \n",
    "* Barnhart, K., Glade, R., Shobe, C., Tucker, G. (2019). Terrainbento 1.0: a Python package for multi-model analysis in long-term drainage basin evolution. Geoscientific Model Development  12(4), 1267-1297. https://doi.org/10.5194/gmd-12-1267-2019\n",
    "* Booth, A.M., LaHusen, S.R., Duvall, A.R., Montgomery, D.R., 2017. Holocene history of deep-seated landsliding in the North Fork Stillaguamish River valley from surface roughness analysis, radiocarbon dating, and numerical landscape evolution modeling. Journal of Geophysical Research: Earth Surface 122, 456-472. https://doi.org/10.1002/2016JF003934  \n",
    "* Ganti, V., Passalacqua, P., Foufoula-Georgiou, E. (2012). A sub-grid scale closure for nonlinear hillslope sediment transport models. Journal of Geophysical Research: Earth Surface, 117(F2). https://doi.org/10.1029/2011jf002181\n",
    "* Hobley, D.E.J., Adams, J.M., Nudurupati, S.S., Hutton, E.W.H., Gasparini, N.M., Istanbulluoglu, E., Tucker, G.E., 2017. Creative computing with Landlab: an open-source toolkit for building, coupling, and exploring two-dimensional numerical models of Earth-surface dynamics. Earth Surf. Dynam. 5, 21-46. https://doi.org/10.5194/esurf-5-21-2017\n",
    "* Roering, J. J., Kirchner, J. W., & Dietrich, W. E. (1999). Evidence for nonlinear, diffusive sediment transport on hillslopes and implications for landscape morphology. Water Resources Research, 35(3), 853-870. https://doi.org/10.1029/1998wr900090\n",
    "\n",
    "##### Digital Elevation Model (DEM) Examples:\n",
    "* Washington Geological Survey, 2023. 'Stillaguamish 2014' and 'Snohoco Hazel 2006' projects [lidar data]: originally contracted by Washington State Department of Transportation (WSDOT). [accessed April 4, 2024, at http://lidarportal.dnr.wa.gov]\n",
    "\n",
    "<hr>"
   ]
  },
  {
   "cell_type": "markdown",
   "metadata": {},
   "source": [
    "#### 0. Import Libraries and Set Constants\n",
    "This section imports necessary libraries and sets up constants for file paths."
   ]
  },
  {
   "cell_type": "code",
   "execution_count": null,
   "metadata": {},
   "outputs": [],
   "source": [
    "import os\n",
    "import numpy as np\n",
    "import rasterio\n",
    "from osgeo import gdal\n",
    "import matplotlib.pyplot as plt\n",
    "from landlab import imshowhs_grid\n",
    "from landlab.components import TaylorNonLinearDiffuser\n",
    "from landlab.io import read_esri_ascii, write_esri_ascii"
   ]
  },
  {
   "cell_type": "markdown",
   "metadata": {},
   "source": [
    "#### 1. Define File Directories\n",
    "This section defines file directories for input files and simulation results.\n",
    "The default assumes the input and output GeoTIFF rasters will be placed in the same directory - a subfolder named <code>'ExampleDEM'</code>"
   ]
  },
  {
   "cell_type": "code",
   "execution_count": null,
   "metadata": {},
   "outputs": [],
   "source": [
    "BASE_DIR = os.path.join(os.getcwd(), 'ExampleDEM')\n",
    "INPUT_TIFF = 'Ososlid2014_f_6ftgrid.tif'\n",
    "OUT_DIR = os.path.join(BASE_DIR, 'simulation_results')\n",
    "OUT_DIRpng = os.path.join(OUT_DIR, 'PNGs')\n",
    "OUT_DIRtiff = os.path.join(OUT_DIR, 'GeoTIFFs')\n",
    "os.makedirs(OUT_DIR, exist_ok=True)\n",
    "os.makedirs(OUT_DIRpng, exist_ok=True)\n",
    "os.makedirs(OUT_DIRtiff, exist_ok=True)"
   ]
  },
  {
   "cell_type": "markdown",
   "metadata": {},
   "source": [
    "#### 2. Utility Functions\n",
    "These utility functions handle file format conversions, because **Landlab** are designed for processing raster files in ESRI ASCII format rather than GeoTIFFs.\n",
    "* `tiff_to_asc`: Converts GeoTIFF to ESRI ASCII format.\n",
    "* `asc_to_tiff`: Converts ESRI ASCII back to GeoTIFF, preserving metadata.\n",
    "\n",
    "***Notes***: The input DEM layout must not have nodata or extreme values to prevent `TaylorNonLinearDiffuser` component encountering errors due to infinite slope ($S$) and sediment flux ($\\mathbf{q}_s$)."
   ]
  },
  {
   "cell_type": "code",
   "execution_count": null,
   "metadata": {},
   "outputs": [],
   "source": [
    "def tiff_to_asc(in_path, out_path):\n",
    "    with rasterio.open(in_path) as src:\n",
    "        XYZunit = src.crs.linear_units   #assuming the unit of XYZ direction are the same\n",
    "        mean_res = np.mean(src.res)\n",
    "    \n",
    "    gdal.Translate(out_path, in_path, format='AAIGrid', xRes=mean_res, yRes=mean_res)\n",
    "    print(f\"The input GeoTIFF is temporarily converted to '{os.path.basename(out_path)}' with grid spacing {mean_res} ({XYZunit})\")\n",
    "    return mean_res, XYZunit\n",
    "    \n",
    "def asc_to_tiff(asc_path, tiff_path, meta):\n",
    "    data = np.loadtxt(asc_path, skiprows=6)\n",
    "    meta.update(dtype=rasterio.float32, count=1, compress='deflate')\n",
    "\n",
    "    with rasterio.open(tiff_path, 'w', **meta) as dst:\n",
    "        dst.write(data.astype(rasterio.float32), 1)\n",
    "    print(f\"'{os.path.basename(tiff_path)}' saved to 'simulation_results' folder\")"
   ]
  },
  {
   "cell_type": "markdown",
   "metadata": {},
   "source": [
    "#### 3. Function for Simulation Initialization\n",
    "This function initializes the simulation:\n",
    "1. Reads the ASCII file into a Landlab grid.\n",
    "2. Sets boundary conditions.\n",
    "3. Converts the diffusion coefficient to appropriate units.\n",
    "4. Creates and returns the `TaylorNonLinearDiffuser` component."
   ]
  },
  {
   "cell_type": "code",
   "execution_count": null,
   "metadata": {},
   "outputs": [],
   "source": [
    "ft2mUS = 1200/3937 #US survey foot to meter conversion factor \n",
    "ft2mInt = 0.3048 #International foot to meter conversion factor \n",
    "\n",
    "def init_simulation(asc_file, K, Sc, XYZunit=None):\n",
    "    grid, z = read_esri_ascii(asc_file, name='topographic__elevation') #the xy grid spacing must be equal\n",
    "    grid.set_closed_boundaries_at_grid_edges(False, False, False, False)\n",
    "\n",
    "    # Check the unit of XYZ and make unit conversion of K when needed\n",
    "    if XYZunit is None:\n",
    "        print(\"The function assumes the input XYZ units are in meters.\")\n",
    "        TNLD = TaylorNonLinearDiffuser(grid, linear_diffusivity=K, slope_crit=Sc, dynamic_dt=True, nterms=2, if_unstable = \"pass\")\n",
    "    elif XYZunit is not None:\n",
    "        if any(unit in XYZunit.lower() for unit in [\"metre\".lower(), \"meter\".lower()]):\n",
    "            print(\"Input XYZ units are in meters. No unit conversion is made\")\n",
    "            TNLD = TaylorNonLinearDiffuser(grid, linear_diffusivity=K, slope_crit=Sc, dynamic_dt=True, nterms=2, if_unstable = \"pass\")\n",
    "        elif any(unit in XYZunit.lower() for unit in [\"foot\".lower(), \"feet\".lower(), \"ft\".lower()]):  \n",
    "            if any(unit in XYZunit.lower() for unit in [\"US\".lower(), \"United States\".lower()]):\n",
    "                print(\"Input XYZ units are in US survey feet. A unit conversion to meters is made for K\")\n",
    "                Kc = K / (ft2mUS ** 2)\n",
    "                TNLD = TaylorNonLinearDiffuser(grid, linear_diffusivity=Kc, slope_crit=Sc, dynamic_dt=True, nterms=2, if_unstable = \"pass\")\n",
    "            else:\n",
    "                print(\"Input XYZ units are in international feet. A unit conversion to meters is made for K\")\n",
    "                Kc = K / (ft2mInt ** 2)\n",
    "                TNLD = TaylorNonLinearDiffuser(grid, linear_diffusivity=Kc, slope_crit=Sc, dynamic_dt=True, nterms=2, if_unstable = \"pass\")\n",
    "        else:\n",
    "            message = (\n",
    "            \"WARNING: The code excution is stopped. \"\n",
    "            \"The input XYZ units must be in feet or meters.\"\n",
    "            )\n",
    "            raise RuntimeError(message)\n",
    "\n",
    "    return grid, TNLD"
   ]
  },
  {
   "cell_type": "markdown",
   "metadata": {},
   "source": [
    "#### 4. Function for Plotting and Saving Results\n",
    "This function handles visualization and data saving:\n",
    "1. Creates a hillshade plot of the current topography.\n",
    "2. Saves the plot as a PNG file.\n",
    "3. Saves the elevation data as a temporary ASCII file."
   ]
  },
  {
   "cell_type": "code",
   "execution_count": null,
   "metadata": {},
   "outputs": [],
   "source": [
    "def plot_save(grid, z, basefilename, time, K, mean_res=None, XYZunit=None):\n",
    "    plt.figure(figsize=(6, 5.25))\n",
    "    imshowhs_grid(grid, z, plot_type=\"Hillshade\")\n",
    "    plt.title(f\"{basefilename} \\n Time: {time} years (K = {K} m$^{{2}}$/yr)\", fontsize='small', fontweight=\"bold\")\n",
    "    plt.xticks(fontsize='small')\n",
    "    plt.yticks(fontsize='small')\n",
    "    if XYZunit is not None:\n",
    "        plt.xlabel(f'X-axis grids \\n(grid size ≈ {round(mean_res, 4)} [{XYZunit}])', fontsize='small')\n",
    "        plt.ylabel(f'Y-axis grids \\n(grid size ≈ {round(mean_res, 4)} [{XYZunit}])', fontsize='small')\n",
    "    else:\n",
    "        print(\"The function assumes the input XYZ units are in meters.\")\n",
    "        plt.xlabel(f'X-axis grids \\n(grid size ≈ {1.0} [meters])', fontsize = 'small')\n",
    "        plt.ylabel(f'Y-axis grids \\n(grid size ≈ {1.0} [meters])', fontsize = 'small') \n",
    "    plt.tight_layout()\n",
    "    #plt.show()\n",
    "    plt.savefig(os.path.join(OUT_DIRpng, f\"{basefilename}_{time}yrs_(K={K}).png\"), dpi=150)\n",
    "    plt.close()\n",
    "    print(f\"'{basefilename}_{time}yrs_(K={K}).png' saved to 'simulation_results' folder\")\n",
    "\n",
    "    asc_path = os.path.join(OUT_DIRtiff, f\"{basefilename}_{time}_(K={K})yrs.asc\")\n",
    "    write_esri_ascii(asc_path, grid, names=['topographic__elevation'], clobber=True)\n",
    "    \n",
    "    return asc_path"
   ]
  },
  {
   "cell_type": "markdown",
   "metadata": {},
   "source": [
    "#### 5. Main Simulation Function\n",
    "This is the main function that runs the simulation:\n",
    "1. Converts input TIFF to ASCII.\n",
    "2. Initializes the simulation.\n",
    "3. Runs the diffusion model for the specified number of time steps.\n",
    "4. For each step, it updates the topography, saves results, and converts files.\n",
    "5. Cleans up temporary files (ASCII and PRJ files) at the end."
   ]
  },
  {
   "cell_type": "code",
   "execution_count": null,
   "metadata": {},
   "outputs": [],
   "source": [
    "def run_simulation(in_tiff, K, Sc, dt, target_time):\n",
    "    basefilename = os.path.splitext(in_tiff)[0]\n",
    "    in_asc = os.path.join(BASE_DIR, f\"{basefilename}.asc\")\n",
    "    mean_res, XYZunit = tiff_to_asc(os.path.join(BASE_DIR, in_tiff), in_asc) #convert input GeoTIFF to ASCII, and determine the XYZ units\n",
    "\n",
    "    grid, tnld = init_simulation(in_asc, K, Sc, XYZunit)\n",
    "    z = grid.at_node['topographic__elevation']\n",
    "\n",
    "    with rasterio.open(os.path.join(BASE_DIR, in_tiff)) as src:\n",
    "        meta = src.meta.copy()\n",
    "\n",
    "    asc_path = plot_save(grid, z, basefilename, 0, K, mean_res, XYZunit)\n",
    "    os.remove(asc_path)\n",
    "\n",
    "    num_steps = int(target_time / dt)\n",
    "    for i in range(num_steps):\n",
    "        tnld.run_one_step(dt)\n",
    "        time = (i + 1) * dt\n",
    "        asc_path = plot_save(grid, z, basefilename, time, K, mean_res, XYZunit)\n",
    "        \n",
    "        tiff_path = os.path.join(OUT_DIRtiff, f\"{basefilename}_{time}yrs_(K={K}).tif\")\n",
    "        asc_to_tiff(asc_path, tiff_path, meta)\n",
    "        \n",
    "        os.remove(asc_path)\n",
    "        \n",
    "    in_prj = in_asc.replace('.asc', '.prj')\n",
    "    os.remove(in_asc)\n",
    "    os.remove(in_prj)\n",
    "    print(\"Simulation completed. Temporary ASCII & PRJ files cleaned up.\")"
   ]
  },
  {
   "cell_type": "markdown",
   "metadata": {},
   "source": [
    "#### 6. Excuting the Simulation\n",
    "This section sets the simulation parameters and runs the simulation when the script is executed directly.\n",
    "\n",
    "When we include nonlinear terms in the transport law, we expect to see slopes that become more planar in character. Here the critical slope value is set to $S_c = 1.25$ (about $51.34^\\circ$), the average slope of the Oso landslide area in the Washington State, USA. The code has two terms in the Taylor expansion (`ntems = 2`), one linear and one cubic, that gives the behavior described in Ganti et al. (2012) as an approximation of the nonlinear diffusion. The code also invokes the `dynamic_dt` option, which allows the component to subdivide each \"global\" timestep if needed for numerical stability."
   ]
  },
  {
   "cell_type": "code",
   "execution_count": null,
   "metadata": {},
   "outputs": [],
   "source": [
    "if __name__ == \"__main__\":\n",
    "    K = 0.0029  # diffusion coefficient, m^2/y\n",
    "    Sc = 1.25   # critical slope gradient, m/m\n",
    "    dt = 1000   # time step size (years)\n",
    "    end_time = 15000  # final simulation time (years)\n",
    "\n",
    "    run_simulation(INPUT_TIFF, K, Sc, dt, end_time)"
   ]
  },
  {
   "cell_type": "code",
   "execution_count": null,
   "metadata": {},
   "outputs": [],
   "source": [
    "import ipywidgets as widgets\n",
    "from IPython.display import display, Image\n",
    "\n",
    "def display_image(time):\n",
    "    filename = f\"{os.path.splitext(INPUT_TIFF)[0]}_{time}yrs_(K={K}).png\"\n",
    "    filepath = os.path.join(OUT_DIRpng, filename)\n",
    "    if os.path.exists(filepath):\n",
    "        display(Image(filename=filepath))\n",
    "    else:\n",
    "        print(\"No file found for this year.\")\n",
    "\n",
    "print(f\"Diffusion coefficient K = {K} m²/yr\")\n",
    "\n",
    "# Create a slider of time (dt)\n",
    "slider = widgets.IntSlider(\n",
    "    value=0,\n",
    "    min=0,\n",
    "    max=end_time,  # end_time should be defined in your earlier cells\n",
    "    step=dt,  # dt should be defined as your timestep size in years\n",
    "    description='Time (years):', #Name of the slider\n",
    "    continuous_update=False\n",
    ")\n",
    "\n",
    "# Interactive display of the image\n",
    "widgets.interactive(display_image, time=slider)"
   ]
  }
 ],
 "metadata": {
  "kernelspec": {
   "display_name": "landlab_dev",
   "language": "python",
   "name": "python3"
  },
  "language_info": {
   "codemirror_mode": {
    "name": "ipython",
    "version": 3
   },
   "file_extension": ".py",
   "mimetype": "text/x-python",
   "name": "python",
   "nbconvert_exporter": "python",
   "pygments_lexer": "ipython3",
   "version": "3.10.11"
  }
 },
 "nbformat": 4,
 "nbformat_minor": 2
}
