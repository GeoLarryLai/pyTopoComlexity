{
 "cells": [
  {
   "cell_type": "markdown",
   "metadata": {},
   "source": [
    "## Topographic Complexity/Variability: Roughness  \n",
    "Developed in November 2023 by Dr. Larry Syu-Heng Lai (University of Washington)  \n",
    "\n",
    "Recommended reference:\n",
    "* Wilson, M.F.J., O’Connell, B., Brown, C., Guinan, J.C., Grehan, A.J., 2007. Multiscale Terrain Analysis of Multibeam Bathymetry Data for Habitat Mapping on the Continental Slope. Marine Geodesy 30, 3-35. https://doi.org/10.1080/01490410701295962 "
   ]
  },
  {
   "cell_type": "markdown",
   "metadata": {},
   "source": [
    "### Initial setup"
   ]
  },
  {
   "cell_type": "code",
   "execution_count": 1,
   "metadata": {},
   "outputs": [],
   "source": [
    "import numpy as np\n",
    "import rasterio\n",
    "from scipy.ndimage import maximum_filter, minimum_filter\n",
    "from tqdm.notebook import tqdm"
   ]
  },
  {
   "cell_type": "markdown",
   "metadata": {},
   "source": [
    "### Define data path"
   ]
  },
  {
   "cell_type": "code",
   "execution_count": 2,
   "metadata": {},
   "outputs": [],
   "source": [
    "# Define your file paths and file names separately\n",
    "input_folder = '/Users/larryslai/Library/CloudStorage/Dropbox/QGIS/WA LiDAR/'\n",
    "input_file_name = 'Test_DEM.tif'\n",
    "#input_file_name = 'Tokeland_DEM.tif'\n",
    "#input_file_name = 'Nemah_DEM.tif'\n",
    "#input_file_name = 'Francies_DEM.tif'\n",
    "\n",
    "output_folder = '/Users/larryslai/Library/CloudStorage/Dropbox/QGIS/WA LiDAR/'\n",
    "output_file_name = 'Test_pyRoughness.tif'\n",
    "#output_file_name = 'Tokeland_pyRoughness.tif'\n",
    "#output_file_name = 'Nemah_pyRoughness.tif'\n",
    "#output_file_name = 'Francies_pyRoughness.tif'\n",
    "\n",
    "# Combine folder and file names to create the full paths\n",
    "input_tif_path = input_folder + input_file_name\n",
    "output_tif_path = output_folder + output_file_name"
   ]
  },
  {
   "cell_type": "markdown",
   "metadata": {},
   "source": [
    "### Read a DEM"
   ]
  },
  {
   "cell_type": "code",
   "execution_count": 3,
   "metadata": {},
   "outputs": [],
   "source": [
    "with rasterio.open(input_tif_path) as src:\n",
    "    dem = src.read(1)  # Read the first band into a 2D array\n",
    "    meta = src.meta"
   ]
  },
  {
   "cell_type": "markdown",
   "metadata": {},
   "source": [
    "See coordinate system info of the GeoTIFF"
   ]
  },
  {
   "cell_type": "code",
   "execution_count": 4,
   "metadata": {},
   "outputs": [
    {
     "name": "stdout",
     "output_type": "stream",
     "text": [
      "CRS: PROJCS[\"NAD83(HARN) / Washington South (ftUS)\",GEOGCS[\"NAD83(HARN)\",DATUM[\"North_American_1983_HARN\",SPHEROID[\"GRS 1980\",6378137,298.257222101004,AUTHORITY[\"EPSG\",\"7019\"]]],PRIMEM[\"Greenwich\",0],UNIT[\"degree\",0.0174532925199433,AUTHORITY[\"EPSG\",\"9122\"]]],PROJECTION[\"Lambert_Conformal_Conic_2SP\"],PARAMETER[\"latitude_of_origin\",45.3333333333333],PARAMETER[\"central_meridian\",-120.5],PARAMETER[\"standard_parallel_1\",45.8333333333333],PARAMETER[\"standard_parallel_2\",47.3333333333333],PARAMETER[\"false_easting\",1640416.66666667],PARAMETER[\"false_northing\",0],UNIT[\"US survey foot\",0.304800609601219,AUTHORITY[\"EPSG\",\"9003\"]],AXIS[\"Easting\",EAST],AXIS[\"Northing\",NORTH]]\n",
      "CRS as WKT: PROJCS[\"NAD83(HARN) / Washington South (ftUS)\",GEOGCS[\"NAD83(HARN)\",DATUM[\"North_American_1983_HARN\",SPHEROID[\"GRS 1980\",6378137,298.257222101004,AUTHORITY[\"EPSG\",\"7019\"]]],PRIMEM[\"Greenwich\",0],UNIT[\"degree\",0.0174532925199433,AUTHORITY[\"EPSG\",\"9122\"]]],PROJECTION[\"Lambert_Conformal_Conic_2SP\"],PARAMETER[\"latitude_of_origin\",45.3333333333333],PARAMETER[\"central_meridian\",-120.5],PARAMETER[\"standard_parallel_1\",45.8333333333333],PARAMETER[\"standard_parallel_2\",47.3333333333333],PARAMETER[\"false_easting\",1640416.66666667],PARAMETER[\"false_northing\",0],UNIT[\"US survey foot\",0.304800609601219,AUTHORITY[\"EPSG\",\"9003\"]],AXIS[\"Easting\",EAST],AXIS[\"Northing\",NORTH]]\n",
      "CRS as PROJ string: +proj=lcc +lat_0=45.3333333333333 +lon_0=-120.5 +lat_1=45.8333333333333 +lat_2=47.3333333333333 +x_0=500000.000000001 +y_0=0 +ellps=GRS80 +units=us-ft +no_defs=True\n",
      "CRS as EPSG code: None\n",
      "CRS as dictionary: {'proj': 'lcc', 'lat_0': 45.3333333333333, 'lon_0': -120.5, 'lat_1': 45.8333333333333, 'lat_2': 47.3333333333333, 'x_0': 500000.000000001, 'y_0': 0, 'ellps': 'GRS80', 'units': 'us-ft', 'no_defs': True}\n"
     ]
    }
   ],
   "source": [
    "# Open the GeoTIFF file\n",
    "with rasterio.open(input_tif_path) as src:\n",
    "    # Read the CRS\n",
    "    crs = src.crs\n",
    "    \n",
    "    # Print the CRS information\n",
    "    print(f\"CRS: {crs}\")\n",
    "    print(f\"CRS as WKT: {crs.wkt}\")\n",
    "    print(f\"CRS as PROJ string: {crs.to_proj4()}\")\n",
    "    print(f\"CRS as EPSG code: {crs.to_epsg()}\")\n",
    "    print(f\"CRS as dictionary: {crs.to_dict()}\")"
   ]
  },
  {
   "cell_type": "markdown",
   "metadata": {},
   "source": [
    "## Roughness (R)\n",
    "\n",
    "Roughness (R) is calculated as the difference between the maximum and minimum elevation values within a specified window size surrounding each pixel:\n",
    "\n",
    "$$\n",
    "R(n) = B_{\\text{max}} - B_{\\text{min}}\n",
    "$$\n",
    "\n",
    "where:\n",
    "- $ B_{\\text{max}}(n) $ is the maximum elevation in the $ n \\times n $ window.\n",
    "- $ B_{\\text{min}}(n) $ is the minimum elevation in the $ n \\times n $ window.\n"
   ]
  },
  {
   "cell_type": "markdown",
   "metadata": {},
   "source": [
    "##### Rugosity function  "
   ]
  },
  {
   "cell_type": "code",
   "execution_count": 5,
   "metadata": {},
   "outputs": [],
   "source": [
    "def calculate_roughness(dem, window_size):\n",
    "    \"\"\"\n",
    "    Calculate the Roughness for a digital elevation model (DEM) with progress bar.\n",
    "    \n",
    "    :param dem: A 2D numpy array of the DEM.\n",
    "    :param window_size: The size of the window to calculate Roughness (must be an odd number).\n",
    "    :return: A 2D numpy array of the Roughness.\n",
    "    \"\"\"\n",
    "    rows, cols = dem.shape\n",
    "    roughness = np.zeros((rows, cols), dtype=dem.dtype)\n",
    "    \n",
    "    # Define the step size for updating the progress bar (could be rows, columns, or a fixed value)\n",
    "    step = 1 if rows < 100 else rows // 100  # Adjust the step size as needed\n",
    "    \n",
    "    with tqdm(total=rows * cols, desc=\"Calculating Roughness\") as pbar:\n",
    "        for i in range(0, rows, step):\n",
    "            for j in range(0, cols, step):\n",
    "                # Define the window boundaries\n",
    "                row_slice = slice(max(i - window_size // 2, 0), min(i + window_size // 2 + 1, rows))\n",
    "                col_slice = slice(max(j - window_size // 2, 0), min(j + window_size // 2 + 1, cols))\n",
    "                \n",
    "                # Apply the filters to the current window\n",
    "                window = dem[row_slice, col_slice]\n",
    "                max_within_window = maximum_filter(window, size=window_size, mode='nearest')\n",
    "                min_within_window = minimum_filter(window, size=window_size, mode='nearest')\n",
    "                \n",
    "                # Calculate roughness and update the corresponding window in the result\n",
    "                roughness_window = max_within_window - min_within_window\n",
    "                roughness[row_slice, col_slice] = roughness_window\n",
    "                \n",
    "                # Update progress bar after processing each window\n",
    "                pbar.update(step * step)\n",
    "    \n",
    "    # Correct the progress bar if the step size does not evenly divide rows or cols\n",
    "    pbar.n = rows * cols\n",
    "    pbar.refresh()\n",
    "\n",
    "    return roughness"
   ]
  },
  {
   "cell_type": "markdown",
   "metadata": {},
   "source": [
    "Calculate Roughness with a given window size"
   ]
  },
  {
   "cell_type": "code",
   "execution_count": 6,
   "metadata": {},
   "outputs": [
    {
     "data": {
      "application/vnd.jupyter.widget-view+json": {
       "model_id": "eba58eca58584052bd122843ced8a55f",
       "version_major": 2,
       "version_minor": 0
      },
      "text/plain": [
       "Calculating Roughness:   0%|          | 0/1855236 [00:00<?, ?it/s]"
      ]
     },
     "metadata": {},
     "output_type": "display_data"
    }
   ],
   "source": [
    "# Calculate with a N x N window as an example\n",
    "window_size = 3  # Replace with the desired window size\n",
    "\n",
    "# Calculate Roughness\n",
    "roughness = calculate_roughness(dem, window_size)"
   ]
  },
  {
   "cell_type": "markdown",
   "metadata": {},
   "source": [
    "Output data into GeoTIFF\n",
    "* Enabling geotiff compression to reduce writing time\n",
    "* Enabling Tile-based writing if needed\n",
    "* Enabling BIGTIFF parameter to allow writing a large GeoTIFF"
   ]
  },
  {
   "cell_type": "code",
   "execution_count": 7,
   "metadata": {},
   "outputs": [],
   "source": [
    "# Update metadata for output GeoTIFF\n",
    "meta.update(dtype=rasterio.float32, compress='lzw', tiled=True, bigtiff='IF_SAFER')\n",
    "\n",
    "# Write Roughness to a new GeoTIFF\n",
    "with rasterio.open(output_tif_path, 'w', **meta) as dst:\n",
    "    dst.write(roughness.astype(rasterio.float32), 1)"
   ]
  }
 ],
 "metadata": {
  "kernelspec": {
   "display_name": "base",
   "language": "python",
   "name": "python3"
  },
  "language_info": {
   "codemirror_mode": {
    "name": "ipython",
    "version": 3
   },
   "file_extension": ".py",
   "mimetype": "text/x-python",
   "name": "python",
   "nbconvert_exporter": "python",
   "pygments_lexer": "ipython3",
   "version": "3.10.11"
  }
 },
 "nbformat": 4,
 "nbformat_minor": 2
}
