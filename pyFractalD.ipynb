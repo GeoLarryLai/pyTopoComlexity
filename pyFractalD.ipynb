{
 "cells": [
  {
   "cell_type": "markdown",
   "metadata": {},
   "source": [
    "## Topographic Complexity/Variability: Fractal Dimension   \n",
    "Developed in November 2023 by Dr. Larry Syu-Heng Lai (University of Washington)  \n",
    "\n",
    "Recommended reference:\n",
    "* Wilson, M.F.J., O’Connell, B., Brown, C., Guinan, J.C., Grehan, A.J., 2007. Multiscale Terrain Analysis of Multibeam Bathymetry Data for Habitat Mapping on the Continental Slope. Marine Geodesy 30, 3-35. https://doi.org/10.1080/01490410701295962 "
   ]
  },
  {
   "cell_type": "markdown",
   "metadata": {},
   "source": [
    "### Initial setup"
   ]
  },
  {
   "cell_type": "code",
   "execution_count": 51,
   "metadata": {},
   "outputs": [],
   "source": [
    "import numpy as np\n",
    "import rasterio\n",
    "from scipy.stats import linregress\n",
    "from scipy.ndimage import generic_filter\n",
    "\n",
    "import joblib\n",
    "from joblib import Parallel, delayed\n",
    "from tqdm.notebook import tqdm"
   ]
  },
  {
   "cell_type": "markdown",
   "metadata": {},
   "source": [
    "### Define data path"
   ]
  },
  {
   "cell_type": "code",
   "execution_count": 52,
   "metadata": {},
   "outputs": [],
   "source": [
    "# Define your file paths and file names separately\n",
    "input_folder = '/Users/larryslai/Library/CloudStorage/Dropbox/QGIS/WA LiDAR/'\n",
    "input_file_name = 'Test_DEM.tif'\n",
    "#input_file_name = 'Tokeland_DEM.tif'\n",
    "#input_file_name = 'Nemah_DEM.tif'\n",
    "#input_file_name = 'Francies_DEM.tif'\n",
    "\n",
    "output_folder = '/Users/larryslai/Library/CloudStorage/Dropbox/QGIS/WA LiDAR/'\n",
    "output_file_name = 'Test_pyFractalD.tif'\n",
    "#output_file_name = 'Tokeland_pyFractalD.tif'\n",
    "#output_file_name = 'Nemah_pyFractalD.tif'\n",
    "#output_file_name = 'Francies_pyFractalD.tif'\n",
    "\n",
    "# Combine folder and file names to create the full paths\n",
    "input_tif_path = input_folder + input_file_name\n",
    "output_tif_path = output_folder + output_file_name"
   ]
  },
  {
   "cell_type": "markdown",
   "metadata": {},
   "source": [
    "### Read a DEM"
   ]
  },
  {
   "cell_type": "code",
   "execution_count": 53,
   "metadata": {},
   "outputs": [],
   "source": [
    "# Open the input GeoTIFF file\n",
    "with rasterio.open(input_tif_path) as src:\n",
    "    # Read the first band (assumed to be elevation data)\n",
    "    dem = src.read(1)\n",
    "    # Retrieve the metadata from the source GeoTIFF to use for the output\n",
    "    meta = src.meta"
   ]
  },
  {
   "cell_type": "markdown",
   "metadata": {},
   "source": [
    "See coordinate system info of the GeoTIFF"
   ]
  },
  {
   "cell_type": "code",
   "execution_count": 54,
   "metadata": {},
   "outputs": [
    {
     "name": "stdout",
     "output_type": "stream",
     "text": [
      "CRS: PROJCS[\"NAD83(HARN) / Washington South (ftUS)\",GEOGCS[\"NAD83(HARN)\",DATUM[\"North_American_1983_HARN\",SPHEROID[\"GRS 1980\",6378137,298.257222101004,AUTHORITY[\"EPSG\",\"7019\"]]],PRIMEM[\"Greenwich\",0],UNIT[\"degree\",0.0174532925199433,AUTHORITY[\"EPSG\",\"9122\"]]],PROJECTION[\"Lambert_Conformal_Conic_2SP\"],PARAMETER[\"latitude_of_origin\",45.3333333333333],PARAMETER[\"central_meridian\",-120.5],PARAMETER[\"standard_parallel_1\",45.8333333333333],PARAMETER[\"standard_parallel_2\",47.3333333333333],PARAMETER[\"false_easting\",1640416.66666667],PARAMETER[\"false_northing\",0],UNIT[\"US survey foot\",0.304800609601219,AUTHORITY[\"EPSG\",\"9003\"]],AXIS[\"Easting\",EAST],AXIS[\"Northing\",NORTH]]\n",
      "CRS as WKT: PROJCS[\"NAD83(HARN) / Washington South (ftUS)\",GEOGCS[\"NAD83(HARN)\",DATUM[\"North_American_1983_HARN\",SPHEROID[\"GRS 1980\",6378137,298.257222101004,AUTHORITY[\"EPSG\",\"7019\"]]],PRIMEM[\"Greenwich\",0],UNIT[\"degree\",0.0174532925199433,AUTHORITY[\"EPSG\",\"9122\"]]],PROJECTION[\"Lambert_Conformal_Conic_2SP\"],PARAMETER[\"latitude_of_origin\",45.3333333333333],PARAMETER[\"central_meridian\",-120.5],PARAMETER[\"standard_parallel_1\",45.8333333333333],PARAMETER[\"standard_parallel_2\",47.3333333333333],PARAMETER[\"false_easting\",1640416.66666667],PARAMETER[\"false_northing\",0],UNIT[\"US survey foot\",0.304800609601219,AUTHORITY[\"EPSG\",\"9003\"]],AXIS[\"Easting\",EAST],AXIS[\"Northing\",NORTH]]\n",
      "CRS as PROJ string: +proj=lcc +lat_0=45.3333333333333 +lon_0=-120.5 +lat_1=45.8333333333333 +lat_2=47.3333333333333 +x_0=500000.000000001 +y_0=0 +ellps=GRS80 +units=us-ft +no_defs=True\n",
      "CRS as EPSG code: None\n",
      "CRS as dictionary: {'proj': 'lcc', 'lat_0': 45.3333333333333, 'lon_0': -120.5, 'lat_1': 45.8333333333333, 'lat_2': 47.3333333333333, 'x_0': 500000.000000001, 'y_0': 0, 'ellps': 'GRS80', 'units': 'us-ft', 'no_defs': True}\n"
     ]
    }
   ],
   "source": [
    "# Open the GeoTIFF file\n",
    "with rasterio.open(input_tif_path) as src:\n",
    "    # Read the CRS\n",
    "    crs = src.crs\n",
    "    \n",
    "    # Print the CRS information\n",
    "    print(f\"CRS: {crs}\")\n",
    "    print(f\"CRS as WKT: {crs.wkt}\")\n",
    "    print(f\"CRS as PROJ string: {crs.to_proj4()}\")\n",
    "    print(f\"CRS as EPSG code: {crs.to_epsg()}\")\n",
    "    print(f\"CRS as dictionary: {crs.to_dict()}\")"
   ]
  },
  {
   "cell_type": "markdown",
   "metadata": {},
   "source": [
    "## Fractal Dimension (D)\n",
    "\n",
    "Fractal dimension (D) is a measure of surface complexity, where higher values indicate more complex terrain. The calculation of fractal dimension using the variogram method consists of the following steps:\n",
    "\n",
    "1. **Variogram Calculation**: The variogram is a function that quantifies the spatial variation of the terrain by calculating the semivariance of pixel elevation values at different lags (distances). The semivariance $ \\gamma(h) $ for a lag $ h $ is computed using the formula:\n",
    "\n",
    "$$\n",
    "\\gamma(h) = \\frac{1}{2n(h)} \\sum_{i=1}^{n} \\sum_{j=1}^{n} (z_i - z_j)^2\n",
    "$$\n",
    "\n",
    "where:\n",
    "- $ \\gamma(h) $ is the semivariance at lag $ h $,\n",
    "- $ n(h) $ is the number of pixel pairs at lag $ h $,\n",
    "- $ z_i $, $ z_j $ are the elevation values of the pixel pairs.\n",
    "\n",
    "2. **Log-Log Regression**: The log-log regression is performed on the calculated variogram values. This involves plotting the log of the variogram values against the log of the lag distances and fitting a straight line to the points.\n",
    "\n",
    "3. **Fractal Dimension Estimation**: The fractal dimension is estimated from the slope of the regression line obtained in the log-log plot. The relationship between the slope $ m $ and the fractal dimension $ D $ is given by the equation:\n",
    "\n",
    "$$\n",
    "D = 2 - \\frac{m}{2}\n",
    "$$\n",
    "\n",
    "The fractal dimension thus provides a scalar value that characterizes the complexity of the terrain surface. A higher fractal dimension indicates a more complex and rough surface.\n",
    "\n",
    "### Calculating local Fractal Dimension (D) to detect spatial variation in surface complexity\n",
    "\n",
    "In heterogeneous landscapes, the fractal dimension can vary across the terrain. To capture this spatial variation, the fractal dimension is calculated locally for each pixel within a moving window. The local variogram method is applied, which computes the variogram for each cell based on its surrounding neighborhood defined by the window size. The log-log regression is then performed for each local window, resulting in a raster where each pixel's value represents the local fractal dimension of the surface around that pixel.\n",
    "\n",
    "This approach allows for the assessment of spatial variations in terrain complexity, which can be crucial for applications such as habitat mapping and geomorphological analysis.\n"
   ]
  },
  {
   "cell_type": "markdown",
   "metadata": {},
   "source": [
    "##### Functions: Before optimization (Slow)"
   ]
  },
  {
   "cell_type": "code",
   "execution_count": null,
   "metadata": {},
   "outputs": [],
   "source": [
    "def calculate_local_variogram(window, lags):\n",
    "    \"\"\"\n",
    "    Calculate local variogram for a moving window.\n",
    "\n",
    "    :param window: 1D array of the moving window values.\n",
    "    :param lags: Array of lag distances.\n",
    "    :return: Variogram values for the given lags.\n",
    "    \"\"\"\n",
    "    n = int(np.sqrt(window.size))\n",
    "    window = window.reshape((n, n))\n",
    "    center = (n - 1) // 2\n",
    "    variogram = np.zeros_like(lags, dtype=float)\n",
    "    \n",
    "    for i, lag in enumerate(lags):\n",
    "        if center - lag < 0 or center + lag >= n:\n",
    "            continue\n",
    "        # Extract the ring around the central cell with the specific lag\n",
    "        ring = window[center - lag : center + lag + 1, center - lag : center + lag + 1]\n",
    "        central_value = window[center, center]\n",
    "        # Compute the semivariance\n",
    "        squared_differences = (ring - central_value) ** 2\n",
    "        variogram[i] = np.nanmean(squared_differences)\n",
    "    \n",
    "    return variogram\n",
    "\n",
    "def calculate_fractal_dimension(window, max_lag):\n",
    "    \"\"\"\n",
    "    Calculate the fractal dimension for the window.\n",
    "\n",
    "    :param window: 1D array of the moving window values.\n",
    "    :param max_lag: Maximum lag distance to consider for variogram calculation.\n",
    "    :return: Fractal dimension of the window.\n",
    "    \"\"\"\n",
    "    lags = np.arange(1, max_lag + 1)\n",
    "    variogram = calculate_local_variogram(window, lags)\n",
    "    \n",
    "    # Perform log-log linear regression on the variogram values\n",
    "    log_lags = np.log(lags[variogram > 0])\n",
    "    log_variogram = np.log(variogram[variogram > 0])\n",
    "    \n",
    "    if len(log_lags) < 2:  # Not enough data to fit a regression line\n",
    "        return np.nan\n",
    "    \n",
    "    slope, intercept, r_value, p_value, std_err = linregress(log_lags, log_variogram)\n",
    "    \n",
    "    # The fractal dimension is related to the slope of the regression line\n",
    "    fractal_dimension = 2 - slope / 2\n",
    "    return fractal_dimension\n",
    "\n",
    "def compute_fractal_dimensions(dem, window_size):\n",
    "    \"\"\"\n",
    "    Compute fractal dimension for each cell in the raster using a moving window.\n",
    "\n",
    "    :param dem: 2D array of elevation values.\n",
    "    :param window_size: Size of the moving window to calculate the variogram.\n",
    "    :return: 2D array of fractal dimension values.\n",
    "    \"\"\"\n",
    "    max_lag = window_size // 2\n",
    "    fractal_dimension_map = generic_filter(dem, calculate_fractal_dimension, size=(window_size, window_size), extra_keywords={'max_lag': max_lag})\n",
    "    return fractal_dimension_map"
   ]
  },
  {
   "cell_type": "markdown",
   "metadata": {},
   "source": [
    "##### Functions: Optimized via Chunk-based processing (Better)"
   ]
  },
  {
   "cell_type": "code",
   "execution_count": null,
   "metadata": {},
   "outputs": [],
   "source": [
    "def calculate_local_variogram(window, lags):\n",
    "    \"\"\"\n",
    "    Calculate local variogram for a moving window.\n",
    "\n",
    "    :param window: 1D array of the moving window values.\n",
    "    :param lags: Array of lag distances.\n",
    "    :return: Variogram values for the given lags.\n",
    "    \"\"\"\n",
    "    n = int(np.sqrt(window.size))\n",
    "    window = window.reshape((n, n))\n",
    "    center = (n - 1) // 2\n",
    "    variogram = np.zeros_like(lags, dtype=float)\n",
    "    \n",
    "    for i, lag in enumerate(lags):\n",
    "        if center - lag < 0 or center + lag >= n:\n",
    "            continue\n",
    "        # Extract the ring around the central cell with the specific lag\n",
    "        ring = window[center - lag : center + lag + 1, center - lag : center + lag + 1]\n",
    "        central_value = window[center, center]\n",
    "        # Compute the semivariance\n",
    "        squared_differences = (ring - central_value) ** 2\n",
    "        variogram[i] = np.nanmean(squared_differences)\n",
    "    \n",
    "    return variogram\n",
    "\n",
    "def calculate_fractal_dimension(window, max_lag):\n",
    "    \"\"\"\n",
    "    Calculate the fractal dimension for the window.\n",
    "\n",
    "    :param window: 1D array of the moving window values.\n",
    "    :param max_lag: Maximum lag distance to consider for variogram calculation.\n",
    "    :return: Fractal dimension of the window.\n",
    "    \"\"\"\n",
    "    lags = np.arange(1, max_lag + 1)\n",
    "    variogram = calculate_local_variogram(window, lags)\n",
    "    \n",
    "    # Perform log-log linear regression on the variogram values\n",
    "    log_lags = np.log(lags[variogram > 0])\n",
    "    log_variogram = np.log(variogram[variogram > 0])\n",
    "    \n",
    "    if len(log_lags) < 2:  # Not enough data to fit a regression line\n",
    "        return np.nan\n",
    "    \n",
    "    slope, intercept, r_value, p_value, std_err = linregress(log_lags, log_variogram)\n",
    "    \n",
    "    # The fractal dimension is related to the slope of the regression line\n",
    "    fractal_dimension = 2 - slope / 2\n",
    "    return fractal_dimension\n",
    "\n",
    "def compute_fractal_dimensions_chunked(dem, window_size):\n",
    "    max_lag = window_size // 2\n",
    "    rows, cols = dem.shape\n",
    "    fractal_dimension_map = np.full((rows, cols), np.nan, dtype=np.float32)\n",
    "\n",
    "    # Calculate number of chunks in each dimension\n",
    "    num_chunks_row = (rows - 2 * max_lag) // chunk_size + (1 if (rows - 2 * max_lag) % chunk_size else 0)\n",
    "    num_chunks_col = (cols - 2 * max_lag) // chunk_size + (1 if (cols - 2 * max_lag) % chunk_size else 0)\n",
    "    \n",
    "    pbar = tqdm(total=num_chunks_row * num_chunks_col, desc='Computing Fractal Dimensions')\n",
    "\n",
    "    for i in range(max_lag, rows - max_lag, chunk_size):\n",
    "        for j in range(max_lag, cols - max_lag, chunk_size):\n",
    "            # Adjust chunk size for edges\n",
    "            chunk_end_i = min(i + chunk_size, rows - max_lag)\n",
    "            chunk_end_j = min(j + chunk_size, cols - max_lag)\n",
    "            \n",
    "            chunk_slice = (slice(i - max_lag, chunk_end_i + max_lag),\n",
    "                           slice(j - max_lag, chunk_end_j + max_lag))\n",
    "            dem_chunk = dem[chunk_slice]\n",
    "\n",
    "            # Calculate fractal dimension for the chunk\n",
    "            fractal_chunk = generic_filter(dem_chunk, calculate_fractal_dimension,\n",
    "                                           size=window_size, mode='reflect',\n",
    "                                           extra_arguments=(max_lag,))\n",
    "            \n",
    "            # Insert calculated chunk into the fractal dimension map\n",
    "            map_slice = (slice(i, chunk_end_i),\n",
    "                         slice(j, chunk_end_j))\n",
    "            fractal_dimension_map[map_slice] = fractal_chunk[max_lag:chunk_end_i - i + max_lag, \n",
    "                                                             max_lag:chunk_end_j - j + max_lag]\n",
    "            \n",
    "            pbar.update(1)\n",
    "    \n",
    "    pbar.close()\n",
    "    return fractal_dimension_map"
   ]
  },
  {
   "cell_type": "markdown",
   "metadata": {},
   "source": [
    "#### Functions: Optimized via Parallel Processing (Fastest!)"
   ]
  },
  {
   "cell_type": "code",
   "execution_count": 55,
   "metadata": {},
   "outputs": [],
   "source": [
    "def calculate_local_variogram(window, lags):\n",
    "    \"\"\"\n",
    "    Calculate local variogram for a moving window.\n",
    "\n",
    "    :param window: 1D array of the moving window values.\n",
    "    :param lags: Array of lag distances.\n",
    "    :return: Variogram values for the given lags.\n",
    "    \"\"\"\n",
    "    n = int(np.sqrt(window.size))\n",
    "    window = window.reshape((n, n))\n",
    "    center = (n - 1) // 2\n",
    "    variogram = np.zeros_like(lags, dtype=float)\n",
    "    \n",
    "    for i, lag in enumerate(lags):\n",
    "        if center - lag < 0 or center + lag >= n:\n",
    "            continue\n",
    "        # Extract the ring around the central cell with the specific lag\n",
    "        ring = window[center - lag : center + lag + 1, center - lag : center + lag + 1]\n",
    "        central_value = window[center, center]\n",
    "        # Compute the semivariance\n",
    "        squared_differences = (ring - central_value) ** 2\n",
    "        variogram[i] = np.nanmean(squared_differences)\n",
    "    \n",
    "    return variogram\n",
    "\n",
    "def calculate_fractal_dimension(window, max_lag):\n",
    "    \"\"\"\n",
    "    Calculate the fractal dimension for the window.\n",
    "\n",
    "    :param window: 1D array of the moving window values.\n",
    "    :param max_lag: Maximum lag distance to consider for variogram calculation.\n",
    "    :return: Fractal dimension of the window.\n",
    "    \"\"\"\n",
    "    lags = np.arange(1, max_lag + 1)\n",
    "    variogram = calculate_local_variogram(window, lags)\n",
    "    \n",
    "    # Perform log-log linear regression on the variogram values\n",
    "    log_lags = np.log(lags[variogram > 0])\n",
    "    log_variogram = np.log(variogram[variogram > 0])\n",
    "    \n",
    "    if len(log_lags) < 2:  # Not enough data to fit a regression line\n",
    "        return np.nan\n",
    "    \n",
    "    slope, intercept, r_value, p_value, std_err = linregress(log_lags, log_variogram)\n",
    "    \n",
    "    # The fractal dimension is related to the slope of the regression line\n",
    "    fractal_dimension = 2 - slope / 2\n",
    "    return fractal_dimension\n",
    "\n",
    "def process_cell(dem, i, j, max_lag):\n",
    "    \"\"\"\n",
    "    Process a single cell to compute the fractal dimension.\n",
    "    \n",
    "    :param dem: 2D array of elevation values.\n",
    "    :param i: Row index of the cell.\n",
    "    :param j: Column index of the cell.\n",
    "    :param max_lag: Maximum lag distance for variogram calculation.\n",
    "    :return: Fractal dimension of the cell.\n",
    "    \"\"\"\n",
    "    window = dem[i - max_lag:i + max_lag + 1, j - max_lag:j + max_lag + 1].flatten()\n",
    "    return calculate_fractal_dimension(window, max_lag)\n",
    "\n",
    "\n",
    "def compute_fractal_dimensions_parallel(dem, window_size):\n",
    "    \"\"\"\n",
    "    Compute fractal dimensions for the raster using joblib for parallel processing.\n",
    "    \n",
    "    :param dem: 2D array of elevation values.\n",
    "    :param window_size: Size of the moving window for variogram calculation.\n",
    "    :return: 2D array of fractal dimension values.\n",
    "    \"\"\"\n",
    "    rows, cols = dem.shape\n",
    "    max_lag = window_size // 2\n",
    "    indices = [(i, j) for i in range(max_lag, rows - max_lag)\n",
    "                      for j in range(max_lag, cols - max_lag)]\n",
    "\n",
    "    fractal_dimension_map = np.full(dem.shape, np.nan, dtype=np.float32)\n",
    "\n",
    "    # Create a partial function for processing a cell\n",
    "    partial_process_cell = delayed(process_cell)\n",
    "\n",
    "    # Set up parallel processing using joblib\n",
    "    num_cores = joblib.cpu_count()\n",
    "    \n",
    "    # Perform parallel processing, showing a progress bar\n",
    "    results = Parallel(n_jobs=num_cores)(partial_process_cell(dem, i, j, max_lag) for i, j in tqdm(indices, desc='Processing'))\n",
    "\n",
    "    # Populate the fractal_dimension_map with the results\n",
    "    for (i, j), fractal_dimension in zip(indices, results):\n",
    "        fractal_dimension_map[i, j] = fractal_dimension\n",
    "\n",
    "    return fractal_dimension_map"
   ]
  },
  {
   "cell_type": "markdown",
   "metadata": {},
   "source": [
    "##### Calculate D (Slow)"
   ]
  },
  {
   "cell_type": "code",
   "execution_count": null,
   "metadata": {},
   "outputs": [],
   "source": [
    "# Define parameters\n",
    "window_size = 9 #the edge length of the grid for N x N a moving window\n",
    "\n",
    "# Calculate the fractal dimensions for the entire DEM with a specified window size\n",
    "fractal_dims = compute_fractal_dimensions(dem, window_size)"
   ]
  },
  {
   "cell_type": "markdown",
   "metadata": {},
   "source": [
    "##### Calculate D for the in chuncked DEM (Better)"
   ]
  },
  {
   "cell_type": "code",
   "execution_count": null,
   "metadata": {},
   "outputs": [],
   "source": [
    "# Define parameters\n",
    "window_size = 9 #the edge length of the grid for N x N a moving window\n",
    "\n",
    "# Define the chunk size (adjust as needed)\n",
    "chunk_size = 512\n",
    "\n",
    "# Calculate the fractal dimensions for the entire DEM with a specified window size\n",
    "fractal_dims = compute_fractal_dimensions_chunked(dem, window_size)"
   ]
  },
  {
   "cell_type": "markdown",
   "metadata": {},
   "source": [
    "#### Calculate D - Optimized by Parallel Processing (Fastest)"
   ]
  },
  {
   "cell_type": "code",
   "execution_count": 56,
   "metadata": {},
   "outputs": [
    {
     "data": {
      "application/vnd.jupyter.widget-view+json": {
       "model_id": "b2cb9e4034334319b1bb85328c969cba",
       "version_major": 2,
       "version_minor": 0
      },
      "text/plain": [
       "Processing:   0%|          | 0/1827966 [00:00<?, ?it/s]"
      ]
     },
     "metadata": {},
     "output_type": "display_data"
    }
   ],
   "source": [
    "# Define parameters\n",
    "window_size = 10 #the edge length of the grid for N x N a moving window\n",
    "\n",
    "# Calculate the fractal dimensions for the entire DEM with a specified window size\n",
    "fractal_dims = compute_fractal_dimensions_parallel(dem, window_size)"
   ]
  },
  {
   "cell_type": "markdown",
   "metadata": {},
   "source": [
    "##### Output data into GeoTIFF  \n",
    "* Enabling geotiff compression to reduce writing time\n",
    "* Enabling Tile-based writing if needed\n",
    "* Enabling BIGTIFF parameter to allow writing a large GeoTIFF"
   ]
  },
  {
   "cell_type": "code",
   "execution_count": 57,
   "metadata": {},
   "outputs": [],
   "source": [
    "# Update metadata for output GeoTIFF\n",
    "meta.update(dtype=rasterio.float32, compress='lzw', tiled=True, bigtiff='IF_SAFER')\n",
    "\n",
    "# Write the fractal dimension data to the output GeoTIFF file\n",
    "with rasterio.open(output_tif_path, 'w', **meta) as dst:\n",
    "    dst.write(fractal_dims.astype(rasterio.float32), 1)"
   ]
  }
 ],
 "metadata": {
  "kernelspec": {
   "display_name": "base",
   "language": "python",
   "name": "python3"
  },
  "language_info": {
   "codemirror_mode": {
    "name": "ipython",
    "version": 3
   },
   "file_extension": ".py",
   "mimetype": "text/x-python",
   "name": "python",
   "nbconvert_exporter": "python",
   "pygments_lexer": "ipython3",
   "version": "3.10.11"
  }
 },
 "nbformat": 4,
 "nbformat_minor": 2
}
