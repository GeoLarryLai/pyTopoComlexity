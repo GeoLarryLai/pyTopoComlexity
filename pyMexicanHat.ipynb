{
 "cells": [
  {
   "cell_type": "markdown",
   "metadata": {},
   "source": [
    "## pyTopoComplexity (v0.5.4)\n",
    "### **Mexican Hat Wavelet Analysis** *[Base Version]*  \n",
    "\n",
    "Two-dimensional continuous wavelet transform (2D-CWT) with a Mexican Hat wevalet has been applied to measure the topographic complexity (i.e., surface roughness) of a land surface. Such method quanitfy the wavelet-based curvature of the surface, which has been proposed to be a effective geomorphic metric for relative age dating of deep-seated landslide deposits, allowing a quick assessment of landslide freqency and spatiotemporal pattern over a large area.\n",
    "\n",
    "The original MATLAB code was developed by Dr. Adam M. Booth (Portland State Univeristy) and used in Booth et al. (2009) and Booth et al. (2017). This MATLAB code was later revised and adapted by Dr. Sean R. LaHusen (Univeristy of Washington) and Dr. Erich N. Herzig (Univeristy of Washington) in their research (e.g., LaHusen et al., 2020; Herzig et al., 2023).\n",
    "\n",
    "Since November 2023, Dr. Larry Syu-Heng Lai (Univeristy of Washington) translated this code into a open-source Python version with continous optimizations. The current codes have the capability to automoatically detect the grid spacing ($\\Delta$) and the unit of XYZ direction of the input Digital Elevation Model (DEM) raster and compute the 2D-CWT results with the adequate wavelet scale factor ($s$) at an designated Mexican Hat wavelet ($\\lambda$).\n",
    "\n",
    "The example GeoTIFF rasters include the LiDAR Digital Elevation Model (DEM) files that cover the area and nearby region of a deep-seated landslide occurred in 2014 at Oso area of the North Fork Stillaguamish River (NFSR) valley, Washington State, USA (Washington Geological Survey, 2023). The example DEMs have various grid size, coordinate reference system (CRS), and unit of grid value (elevation, Z). \n",
    "\n",
    "To use this code, please cite the Zenodo repository that hosts the latest release of this code: \n",
    "* Lai, L. S.-H. (2024). pyTopoComplexity. Zenodo. https://doi.org/10.5281/zenodo.11239338\n",
    "* Github repository: https://github.com/LarrySHLai/pyTopoComlexity\n",
    "<hr>"
   ]
  },
  {
   "cell_type": "markdown",
   "metadata": {},
   "source": [
    "### **Theory** (Booth et al., 2009; Torrence and Compo, 1998)\n",
    "\n",
    "The 2D-CWT provides information regarding how amplitude is distributed over spatial frequency at each position in the data by transforming spatial data into position-frequency space. The 2D-CWT is calculated by a convolution of the elevation $z$ and a wavelet family $\\psi$, with a wavelet scale parameter $s$ at every location ($x$, $y$):\n",
    "$$\n",
    "C (s, x, y) = \\Delta^2 \\int_{-\\infty}^{\\infty} \\int_{-\\infty}^{\\infty} z(x, y) \\psi \\left( x, y \\right) dx \\, dy\n",
    "$$\n",
    "\n",
    ", where the wavelet coefficient $C(s,x,y)$ provides a measure of how well the wavelet $\\psi$ matches the data $z$ at each node/grid. When $s$ is large, $\\psi$ is spread out and takes into account long wavelength features of $z$; when $s$ is small, $\\psi$ is more localized in space and sensitive to fine-scale features of $z$. \n",
    "\n",
    "Here we use 2D Mexican hat wavelet function to describe $\\psi$:\n",
    "\n",
    "$$\n",
    "\\psi = − \\frac{1}{\\pi(s\\Delta)^4}(1-\\frac{𝑥^2+𝑦^2}{2s^2})e^{(-\\frac{𝑥^2+𝑦^2}{2s^2})}\n",
    "\\:\\:\\:\\:\\:\\:\\:\\:\\:\n",
    "\\lambda=\\frac{2\\pi s}{\\sqrt{5/2}}\\Delta\n",
    "$$\n",
    "\n",
    "The Mexican hat is proportional to the second derivative of a Gaussian envelope, and it has a wavelength ($\\lambda$) which is dependent on the grid spacing ($\\Delta$) of the input raster. The $\\psi$ here has been scaled to the wavelet scale parameter $s$ and the grid spacing $\\Delta$ so that the wavelet coefficient $C$ is equal to curvature. \n",
    "<hr>"
   ]
  },
  {
   "cell_type": "markdown",
   "metadata": {},
   "source": [
    "### **References**\n",
    "##### Journal Articles: \n",
    "* Booth, A.M., LaHusen, S.R., Duvall, A.R., Montgomery, D.R., 2017. Holocene history of deep-seated landsliding in the North Fork Stillaguamish River valley from surface roughness analysis, radiocarbon dating, and numerical landscape evolution modeling. Journal of Geophysical Research: Earth Surface 122, 456-472. https://doi.org/10.1002/2016JF003934 \n",
    "* Booth, A.M., Roering, J.J., Perron, J.T., 2009. Automated landslide mapping using spectral analysis and high-resolution topographic data: Puget Sound lowlands, Washington, and Portland Hills, Oregon. Geomorphology 109, 132-147. https://doi.org/10.1016/j.geomorph.2009.02.027   \n",
    "* Herzig, E.N., Duvall, A.R., Booth, A.R., Stone, I., Wirth, E., LaHusen, S.R., Wartman, J., Grant, A., 2023. Evidence of Seattle Fault Earthquakes from Patterns in Deep‐Seated Landslides. Bulletin of the Seismological Society of America. https://doi.org/10.1785/0120230079 \n",
    "* LaHusen, S.R., Duvall, A.R., Booth, A.M., Grant, A., Mishkin, B.A., Montgomery, D.R., Struble, W., Roering, J.J., Wartman, J., 2020. Rainfall triggers more deep-seated landslides than Cascadia earthquakes in the Oregon Coast Range, USA. Science Advances 6, eaba6790. https://doi.org/10.1126/sciadv.aba6790  \n",
    "* Torrence, C., Compo, G.P., 1998. A practical guide to wavelet analysis. Bulletin of the American Meteorological Society 79 (1), 61–78.\n",
    "\n",
    "##### Digital Elevation Model (DEM) Examples:\n",
    "* Washington Geological Survey, 2023. 'Stillaguamish 2014' and 'Snohoco Hazel 2006' projects [lidar data]: originally contracted by Washington State Department of Transportation (WSDOT). [accessed April 4, 2024, at http://lidarportal.dnr.wa.gov]\n",
    "<hr>"
   ]
  },
  {
   "cell_type": "markdown",
   "metadata": {},
   "source": [
    "#### 0. Import packages"
   ]
  },
  {
   "cell_type": "code",
   "execution_count": null,
   "metadata": {},
   "outputs": [],
   "source": [
    "import os\n",
    "import numpy as np\n",
    "from scipy.signal import convolve2d\n",
    "from scipy.signal import fftconvolve\n",
    "import rasterio\n",
    "import matplotlib.pyplot as plt\n",
    "from matplotlib.colors import LightSource\n",
    "from ipywidgets import interactive, FloatSlider"
   ]
  },
  {
   "cell_type": "markdown",
   "metadata": {},
   "source": [
    "#### 1. Define the 2D-CWT function\n",
    "\n",
    "Here the function `conv_mexh` operates the 2D-CWT convolution via **numpy** packages. The conventional way is using <code>convolve2d</code> - A much slower method. A optimized way is using <code>fftconvolve</code> Fast Fourier Transform (FFT) - Much faster method\n",
    "\n",
    "***Notes:***\n",
    "If the input DEM raster include grids that contain uncommonly/errorenously created no-data values, the <code>fftconvolve</code> package used in the <code>conv2_mexh</code> function will return empty result in that chunk with an error message *\"RuntimeWarning: invalid value encountered in multiply ret = ifft(sp1 * sp2, fshape, axes=axes)\"*. The function will still proceed to process the rest of the chunks, resulting a raster with empty squares. In this case, users may switch to the conventional <code>convolve2d</code> convolution package in the <code>conv2_mexh</code>, which will significantlly increase the processing time."
   ]
  },
  {
   "cell_type": "code",
   "execution_count": null,
   "metadata": {},
   "outputs": [],
   "source": [
    "def conv2_mexh(Z, s, Delta):\n",
    "    # The kernel must be large enough for the wavelet to decay to ~0 at the edges.\n",
    "    X, Y = np.meshgrid(np.arange(-8 * s, 8 * s + 1), np.arange(-8 * s, 8 * s + 1))\n",
    "\n",
    "    # scaled psi equation. Units of [1/(m^4)]\n",
    "    psi = (-1/(np.pi*(s * Delta)**4)) * (1 - (X**2 + Y**2)/(2 * s**2)) * np.exp(-(X**2 + Y**2)/(2* s**2))  \n",
    "\n",
    "    # Calculating the wavelet coefficient C, multiplied by Delta^2. Units of [(m^2) x (m) x (1/(m^4)) = (1/m)]\n",
    "    # 'same' mode is used to approximate the double integral. \n",
    "    #C = (Delta**2) * convolve2d(Z, psi, mode='same') #Slow conventional method\n",
    "    C = (Delta**2) * fftconvolve(Z, psi, mode='same') #Fast Fourier Transform (FFT) method\n",
    "\n",
    "    return C"
   ]
  },
  {
   "cell_type": "markdown",
   "metadata": {},
   "source": [
    "#### 2. Set up the input and output file names and directories\n",
    "The default assumes the input and output GeoTIFF rasters will be placed in the same directory"
   ]
  },
  {
   "cell_type": "code",
   "execution_count": null,
   "metadata": {},
   "outputs": [],
   "source": [
    "base_dir = os.getcwd()  #Change the directory of base folder as needed\n",
    "base_dir = os.path.join(base_dir, 'Example DEM')\n",
    "\n",
    "input_file = 'Ososlid2014_m_6ftgrid.tif'\n",
    "output_file = 'Ososlid2014_m_6ftgrid_pymexhat.tif'\n",
    "\n",
    "input_dir = os.path.join(base_dir, input_file)\n",
    "output_dir = os.path.join(base_dir, output_file)"
   ]
  },
  {
   "cell_type": "markdown",
   "metadata": {},
   "source": [
    "#### 3. Extract information from the input DEM raster\n",
    "The following section is used to extract coordinate reference system (crs) information, which is critical to contrain the grid spacing $\\Delta$ and wavelet scale $s$ "
   ]
  },
  {
   "cell_type": "code",
   "execution_count": null,
   "metadata": {},
   "outputs": [],
   "source": [
    "with rasterio.open(input_dir) as src:\n",
    "    transform = src.transform\n",
    "    crs = src.crs\n",
    "\n",
    "    # Print the CRS information\n",
    "    print(f\"CRS as WKT: {crs.wkt}\")\n",
    "    print(f\"CRS as EPSG code: {crs.to_epsg()}\")\n",
    "    print(f\"X grid size: {transform[0]} [{crs.linear_units}]\")\n",
    "    print(f\"Y grid size: {-transform[4]} [{crs.linear_units}]\")"
   ]
  },
  {
   "cell_type": "markdown",
   "metadata": {},
   "source": [
    "#### 4. Define parameters\n",
    "Define the desired Mexican Hat Fourier wavelet $\\lambda$ (in meters)"
   ]
  },
  {
   "cell_type": "code",
   "execution_count": null,
   "metadata": {},
   "outputs": [],
   "source": [
    "Lambda = 15  #meters"
   ]
  },
  {
   "cell_type": "markdown",
   "metadata": {},
   "source": [
    "Derive the correct grid spacing $\\Delta$ and wavelet scale $s$"
   ]
  },
  {
   "cell_type": "code",
   "execution_count": null,
   "metadata": {},
   "outputs": [],
   "source": [
    "ft2mUS = 1200/3937 #US survey foot to meter conversion factor \n",
    "ft2mInt = 0.3048   #International foot to meter conversion factor \n",
    "\n",
    "def Delta_s_Calculate(input_dir, Lambda):\n",
    "    with rasterio.open(input_dir) as src:\n",
    "        transform = src.transform\n",
    "        crs = src.crs   \n",
    "\n",
    "    # Delta is the grid spacing (pixel size) of the input DEM raster. Unit in [m].\n",
    "    if any(unit in crs.linear_units.lower() for unit in [\"metre\".lower(), \"meter\".lower()]):\n",
    "        print(\"Input grid size is in meters. No unit conversion is made\")\n",
    "        Delta = np.mean([transform[0], -transform[4]])\n",
    "    elif any(unit in crs.linear_units.lower() for unit in [\"foot\".lower(), \"feet\".lower(), \"ft\".lower()]):  \n",
    "        if any(unit in crs.linear_units.lower() for unit in [\"US\".lower(), \"United States\".lower()]):\n",
    "            print(\"Input grid size is in US survey feet. A unit conversion to meters is made\")\n",
    "            Delta = np.mean([transform[0] * ft2mUS, -transform[4] * ft2mUS])\n",
    "        else: \n",
    "            print(\"Input grid size is in international feet. A unit conversion to meters is made\")\n",
    "            Delta = np.mean([transform[0] * ft2mInt, -transform[4] * ft2mInt])\n",
    "    else:\n",
    "        message = (\n",
    "        \"WARNING: The code excution is stopped. \"\n",
    "        \"The units of XY directions must be in feet or meters. \"\n",
    "        \"Please reproject the raster into a suitable coordinates reference system.\"\n",
    "        )\n",
    "        raise RuntimeError(message)\n",
    "\n",
    "    # 's' is the scale of the wavelet [Unitless] \n",
    "    s = (Lambda/Delta)*((5/2)**(1/2)/(2*np.pi))      # Torrence and Compo [1998]\n",
    "    # When Delta close to 1 meter, 's' aprox. mex-hat wavelength/4\n",
    "\n",
    "    print('Grid spacing \"Delta\" =', Delta, '[m]')\n",
    "    print('For a', Lambda, 'm Mexican Hat wavelet, ...')\n",
    "    print('the wavelet scale \"s\" =', s, '[]')\n",
    "\n",
    "    return Delta, s\n",
    "\n",
    "Delta, s = Delta_s_Calculate(input_dir, Lambda)"
   ]
  },
  {
   "cell_type": "markdown",
   "metadata": {},
   "source": [
    "#### 5. Function of processing the input GeoTIFF"
   ]
  },
  {
   "cell_type": "code",
   "execution_count": null,
   "metadata": {},
   "outputs": [],
   "source": [
    "ft2mUS = 1200/3937 #US survey foot to meter conversion factor \n",
    "ft2mInt = 0.3048 #International foot to meter conversion factor \n",
    "\n",
    "def process_mexhat(input_dir, s, Delta):\n",
    "    with rasterio.open(input_dir) as src:\n",
    "        Z = src.read(1)\n",
    "        Zunit = src.crs.linear_units   #assuming the Z unit is the same as the units of XY directions\n",
    "        #Zunit = \"metre\"               #Manually define the elevation unit. Acceptable inputs: \"metre\", \"meter\", \"meters\", \"foot\", \"feet\", \"ft\", \"US survey foot\"\n",
    "\n",
    "    # Check the unit of Z and make unit conversion when needed\n",
    "    if any(unit in Zunit.lower() for unit in [\"metre\".lower(), \"meter\".lower()]):\n",
    "        print(\"Input elevation is in meters. No unit conversion is made\")\n",
    "    elif any(unit in Zunit.lower() for unit in [\"foot\".lower(), \"feet\".lower(), \"ft\".lower()]):  \n",
    "        if any(unit in Zunit.lower() for unit in [\"US\".lower(), \"United States\".lower()]):\n",
    "            print(\"Input elevation is in US survey feet. A unit conversion to meters is made\")\n",
    "            Z = Z * ft2mUS\n",
    "        else:\n",
    "            print(\"Input elevation is in international feet. A unit conversion to meters is made\")\n",
    "            Z = Z * ft2mInt\n",
    "    else:\n",
    "        message = (\n",
    "        \"WARNING: The code excution is stopped. \"\n",
    "        \"The unit of elevation 'z' must be in feet or meters. \"\n",
    "        \"Please redefine the 'Zunit' parameter.\"\n",
    "        )\n",
    "        raise RuntimeError(message)\n",
    "        \n",
    "    # Compute Mexican Hat 2D Continuous Wavelet Transform\n",
    "    C2 = conv2_mexh(Z, s, Delta)\n",
    "    result = np.abs(C2)\n",
    "\n",
    "    # Mask edge with NaN (no data) values to remove artifacts\n",
    "    cropedge = np.ceil(s * 4)\n",
    "    fringeval = int(cropedge)\n",
    "    result[:fringeval, :] = np.nan\n",
    "    result[:, :fringeval] = np.nan\n",
    "    result[-fringeval:, :] = np.nan\n",
    "    result[:, -fringeval:] = np.nan\n",
    "\n",
    "    print(f\"The Mexican Hat convolution is done\")\n",
    "\n",
    "    return Z, result"
   ]
  },
  {
   "cell_type": "markdown",
   "metadata": {},
   "source": [
    "#### 6. Executing 2D-CWT and export the outcome raster"
   ]
  },
  {
   "cell_type": "code",
   "execution_count": null,
   "metadata": {},
   "outputs": [],
   "source": [
    "Z, result = process_mexhat(input_dir, s, Delta)\n",
    "\n",
    "# Write result to GeoTIFF\n",
    "with rasterio.open(output_dir, 'w', driver='GTiff', height=Z.shape[0], \n",
    "                width=Z.shape[1], count=1, compress='deflate',\n",
    "                    bigtiff='IF_SAFER', dtype=Z.dtype, crs=crs, transform=transform) as dst:\n",
    "    dst.write(result.astype(Z.dtype), 1)\n",
    "\n",
    "print(f\"Processed {os.path.basename(input_dir)} and saved to {os.path.basename(output_dir)}\")"
   ]
  },
  {
   "cell_type": "markdown",
   "metadata": {},
   "source": [
    "#### 7. Display the result\n",
    "Plot hillshade and the 2D-CWT topographic roughness result"
   ]
  },
  {
   "cell_type": "code",
   "execution_count": null,
   "metadata": {},
   "outputs": [],
   "source": [
    "fig, axes = plt.subplots(nrows=1, ncols=2, figsize=(12, 6))\n",
    "\n",
    "# Plot the hillshade\n",
    "ls = LightSource(azdeg=315, altdeg=45)\n",
    "hs = axes[0].imshow(ls.hillshade(Z, vert_exag=2), cmap='gray') #2x vertical exaggeration for hillshade \n",
    "axes[0].set_title(input_file)\n",
    "axes[0].set_xlabel(f'X-axis grids \\n(grid size ≈ {round(transform[0],4)} [{crs.linear_units}])')\n",
    "axes[0].set_ylabel(f'Y-axis grids \\n(grid size ≈ {-round(transform[4],4)} [{crs.linear_units}])')\n",
    "cbar1 = fig.colorbar(hs, ax=axes[0], orientation='horizontal', fraction=0.045, pad=0.13)\n",
    "cbar1.ax.set_visible(False)\n",
    "\n",
    "# Plot the 2D-CWT roughness\n",
    "im = axes[1].imshow(result, cmap='jet')\n",
    "im.set_clim(0, round(np.nanpercentile(result, 99), 2))  # Set the upperlimit to the 99th percentile to avoid exterem values\n",
    "axes[1].set_title(output_file)\n",
    "axes[1].set_xlabel(f'X-axis grids \\n(grid size ≈ {round(transform[0],4)} [{crs.linear_units}])')\n",
    "axes[1].set_ylabel(f'Y-axis grids \\n(grid size ≈ {-round(transform[4],4)} [{crs.linear_units}])')\n",
    "cbar2 = fig.colorbar(im, ax=axes[1], orientation='horizontal', fraction=0.045, pad=0.13)\n",
    "cbar2.set_label(f'Mexican Hat {Lambda} m 2D-CWT surface roughness [m$^{{-1}}$]')\n",
    "plt.tight_layout()\n",
    "plt.show()"
   ]
  },
  {
   "cell_type": "markdown",
   "metadata": {},
   "source": [
    "#### EXTRA. Interactive display\n",
    "Adjust $\\lambda$ value to see the change or 2D-CWT measurement result. The opacity of 2D-CWT image overlay is adjustable as well."
   ]
  },
  {
   "cell_type": "code",
   "execution_count": null,
   "metadata": {},
   "outputs": [],
   "source": [
    "def blend_images(alpha, Lambda):\n",
    "\n",
    "    Lambda = round(Lambda,1)\n",
    "\n",
    "    Delta, s = Delta_s_Calculate(input_dir, Lambda)\n",
    "    Z, result = process_mexhat(input_dir, s, Delta)\n",
    "\n",
    "    # Visualization\n",
    "    fig, ax = plt.subplots(figsize=(10, 6))\n",
    "    ls = LightSource(azdeg=315, altdeg=45)\n",
    "    hillshade_image = ls.hillshade(Z, vert_exag=2)\n",
    "    hs = ax.imshow(hillshade_image, cmap='gray', alpha=1-alpha)  # Adjust alpha for blending\n",
    "    roughness_image = result\n",
    "    max_val = round(np.nanpercentile(roughness_image, 99), 2)\n",
    "    im = ax.imshow(roughness_image, cmap='jet', alpha=alpha, vmin=0, vmax=max_val)\n",
    "\n",
    "    ax.set_title(f'Mexican Hat Wavelet (λ) = {Lambda} m')\n",
    "\n",
    "    with rasterio.open(input_dir) as src:\n",
    "        ax.set_xlabel(f'X-axis grids \\n(grid size ≈ {round(src.transform[0],4)} [{src.crs.linear_units}])')\n",
    "        ax.set_ylabel(f'Y-axis grids \\n(grid size ≈ {-round(src.transform[4],4)} [{src.crs.linear_units}])')\n",
    "    \n",
    "    cbar = fig.colorbar(im, ax=ax)\n",
    "    cbar.set_label(f'2D-CWT surface roughness [m$^{{-1}}$]')\n",
    "\n",
    "    plt.tight_layout()\n",
    "    plt.show()\n",
    "\n",
    "# Define default values and slider configurations\n",
    "default_alpha = 0.35\n",
    "default_lambda = 15\n",
    "alpha_slider = FloatSlider(value=default_alpha, min=0.0, max=1.0, step=0.1, description='Opacity', style={'description_width': 'initial'})\n",
    "lambda_slider = FloatSlider(value=default_lambda, min=10, max=100, step=5, description=f'λ (m)', style={'description_width': 'initial'})\n",
    "\n",
    "# Create an interactive widget with configured sliders\n",
    "interactive(blend_images, alpha=alpha_slider, Lambda=lambda_slider)"
   ]
  }
 ],
 "metadata": {
  "kernelspec": {
   "display_name": "base",
   "language": "python",
   "name": "python3"
  },
  "language_info": {
   "codemirror_mode": {
    "name": "ipython",
    "version": 3
   },
   "file_extension": ".py",
   "mimetype": "text/x-python",
   "name": "python",
   "nbconvert_exporter": "python",
   "pygments_lexer": "ipython3",
   "version": "3.10.11"
  }
 },
 "nbformat": 4,
 "nbformat_minor": 2
}
