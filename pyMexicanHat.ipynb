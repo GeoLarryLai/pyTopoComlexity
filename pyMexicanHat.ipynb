{
 "cells": [
  {
   "cell_type": "markdown",
   "metadata": {},
   "source": [
    "## Topographic Complexity/Variability: Mexican Hat Wavelet Analysis  \n",
    "* The original MATLAB code was developed from Dr. Adam M. Booth (Portland State Univeristy).  \n",
    "    * Citations:  \n",
    "        * Booth, A.M., Roering, J.J., Perron, J.T., 2009. Automated landslide mapping using spectral analysis and high-resolution topographic data: Puget Sound lowlands, Washington, and Portland    Hills, Oregon. Geomorphology 109, 132-147. https://doi.org/10.1016/j.geomorph.2009.02.027  \n",
    "        * Booth, A.M., LaHusen, S.R., Duvall, A.R., Montgomery, D.R., 2017. Holocene history of deep-seated landsliding in the North Fork Stillaguamish River valley from surface roughness analysis, radiocarbon dating, and numerical landscape evolution modeling. Journal of Geophysical Research: Earth Surface 122, 456-472. https://doi.org/10.1002/2016JF003934  \n",
    "* This MATLAB code was later adapted and revised by Dr. Sean R. LaHusen & Erich N. Herzig (Univeristy of Washington)\n",
    "    * Citations:  \n",
    "       * LaHusen, S.R., Duvall, A.R., Booth, A.M., Montgomery, D.R., 2016. Surface roughness dating of long-runout landslides near Oso, Washington (USA), reveals persistent postglacial hillslope instability. Geology 44, 111-114. https://doi.org/10.1130/G37267.1  \n",
    "       * LaHusen, S.R., Duvall, A.R., Booth, A.M., Grant, A., Mishkin, B.A., Montgomery, D.R., Struble, W., Roering, J.J., Wartman, J., 2020. Rainfall triggers more deep-seated landslides than Cascadia earthquakes in the Oregon Coast Range, USA. Science Advances 6, eaba6790. https://doi.org/10.1126/sciadv.aba6790  \n",
    "       * Herzig et al. (2023 in print) Bulletin of the Seismological Society of America. (details TBA)  \n",
    "* In November, 2023; this is code translated and optimized into this python version by Dr. Larry Syu-Heng Lai (Univeristy of Washington)  \n",
    "    * Citations: TBA  "
   ]
  },
  {
   "cell_type": "markdown",
   "metadata": {},
   "source": [
    "### Initial setup"
   ]
  },
  {
   "cell_type": "code",
   "execution_count": null,
   "metadata": {},
   "outputs": [],
   "source": [
    "import numpy as np\n",
    "import scipy.signal\n",
    "import rasterio"
   ]
  },
  {
   "cell_type": "markdown",
   "metadata": {},
   "source": [
    "### Define data pathes"
   ]
  },
  {
   "cell_type": "code",
   "execution_count": null,
   "metadata": {},
   "outputs": [],
   "source": [
    "# Define your file paths and file names separately\n",
    "input_folder = '/Users/larryslai/Library/CloudStorage/Dropbox/QGIS/WA LiDAR/'\n",
    "input_file_name = 'Test_DEM.tif'\n",
    "#input_file_name = 'Tokeland_DEM.tif'\n",
    "#input_file_name = 'Nemah_DEM.tif'\n",
    "#input_file_name = 'Francies_DEM.tif'\n",
    "\n",
    "output_folder = '/Users/larryslai/Library/CloudStorage/Dropbox/QGIS/WA LiDAR/'\n",
    "output_file_name = 'Test_pymexhat.tif'\n",
    "#output_file_name = 'Tokeland_pymexhat.tif'\n",
    "#output_file_name = 'Nemah_pymexhat.tif'\n",
    "#output_file_name = 'Francies_pymexhat.tif'\n",
    "\n",
    "# Combine folder and file names to create the full paths\n",
    "input_tif_path = input_folder + input_file_name\n",
    "output_tif_path = output_folder + output_file_name"
   ]
  },
  {
   "cell_type": "markdown",
   "metadata": {},
   "source": [
    "### Read DEM"
   ]
  },
  {
   "cell_type": "code",
   "execution_count": null,
   "metadata": {},
   "outputs": [],
   "source": [
    "# Read the input GeoTIFF\n",
    "with rasterio.open(input_tif_path) as src:\n",
    "    dem = src.read(1)  # Read the first band into a 2D array\n",
    "    meta = src.meta"
   ]
  },
  {
   "cell_type": "markdown",
   "metadata": {},
   "source": [
    "See coordinate system info of the GeoTIFF"
   ]
  },
  {
   "cell_type": "code",
   "execution_count": null,
   "metadata": {},
   "outputs": [],
   "source": [
    "# Open the GeoTIFF file\n",
    "with rasterio.open(input_tif_path) as src:\n",
    "    # Read the CRS\n",
    "    crs = src.crs\n",
    "    \n",
    "    # Print the CRS information\n",
    "    print(f\"CRS: {crs}\")\n",
    "    print(f\"CRS as WKT: {crs.wkt}\")\n",
    "    print(f\"CRS as PROJ string: {crs.to_proj4()}\")\n",
    "    print(f\"CRS as EPSG code: {crs.to_epsg()}\")\n",
    "    print(f\"CRS as dictionary: {crs.to_dict()}\")"
   ]
  },
  {
   "cell_type": "markdown",
   "metadata": {},
   "source": [
    "### Mexican Hat Wavelet Analysis Function (original slower ver)"
   ]
  },
  {
   "cell_type": "code",
   "execution_count": null,
   "metadata": {},
   "outputs": [],
   "source": [
    "def conv2_mexh(dem, a, dx):\n",
    "    \"\"\"\n",
    "    Perform the 2D Continuous Wavelet Transform using the Mexican Hat wavelet.\n",
    "    \n",
    "    :param dem: Digital elevation model (2D numpy array).\n",
    "    :param a: Wavelet scale.\n",
    "    :param dx: Grid spacing.\n",
    "    :return: Tuple of (C, frq, wave), the wavelet coefficients and frequencies.\n",
    "    \"\"\"\n",
    "    # Generate the Mexican Hat wavelet kernel at wavelet scale a\n",
    "    sz = int(np.ceil(8 * a))  # Kernel size\n",
    "    X, Y = np.meshgrid(np.arange(-sz, sz+1), np.arange(-sz, sz+1))\n",
    "\n",
    "    # Scaled Mexican Hat wavelet (psi)\n",
    "    psi = (-1 / (np.pi * (a * dx)**4)) * (1 - (X**2 + Y**2) / (2 * a**2)) * np.exp(-(X**2 + Y**2) / (2 * a**2))\n",
    "\n",
    "    # Convolve dem with psi\n",
    "    C = dx**2 * scipy.signal.convolve2d(dem * 0.3048, psi, mode='same')\n",
    "\n",
    "    # Mask edge effects with NaN values\n",
    "    fringeval = int(np.ceil(a * 4))\n",
    "    C[:fringeval, :] = np.nan\n",
    "    C[-fringeval:, :] = np.nan\n",
    "    C[:, :fringeval] = np.nan\n",
    "    C[:, -fringeval:] = np.nan\n",
    "\n",
    "    # Frequency and wavelength calculations\n",
    "    wave = 2 * np.pi * dx * a / np.sqrt(5 / 2)  # Wavelength\n",
    "    frq = 1 / wave  # Frequency\n",
    "    \n",
    "    return C, frq, wave"
   ]
  },
  {
   "cell_type": "markdown",
   "metadata": {},
   "source": [
    "Set parameters"
   ]
  },
  {
   "cell_type": "code",
   "execution_count": null,
   "metadata": {},
   "outputs": [],
   "source": [
    "a = 4.1  # Wavelet scale\n",
    "dx = 1.8288  # Grid spacing"
   ]
  },
  {
   "cell_type": "markdown",
   "metadata": {},
   "source": [
    "Perform the function"
   ]
  },
  {
   "cell_type": "code",
   "execution_count": null,
   "metadata": {},
   "outputs": [],
   "source": [
    "C, frq, wave = conv2_mexh(dem, a, dx)"
   ]
  },
  {
   "cell_type": "markdown",
   "metadata": {},
   "source": [
    "Output data into GeoTIFF"
   ]
  },
  {
   "cell_type": "code",
   "execution_count": null,
   "metadata": {},
   "outputs": [],
   "source": [
    "# Define georeference system\n",
    "coord_ref_sys_code = 32149 #NAD38 Washington South\n",
    "# coord_ref_sys_code = 32610 #WGS84_UTM Zone 10N\n",
    "\n",
    "# Prepare the metadata for writing the output GeoTIFF\n",
    "meta.update({\n",
    "    'dtype': 'float32',\n",
    "    'nodata': np.nan,\n",
    "    'crs': f'EPSG:{coord_ref_sys_code}'\n",
    "})\n",
    "\n",
    "# Write the result to a new GeoTIFF\n",
    "with rasterio.open(output_tif_path, 'w', **meta) as dst:\n",
    "    dst.write(C.astype(np.float32), 1)  # Write the computed C as the first band"
   ]
  },
  {
   "cell_type": "markdown",
   "metadata": {},
   "source": [
    "### Mexican Hat Wavelet Analysis Function - Optimized with FFT convolution"
   ]
  },
  {
   "cell_type": "code",
   "execution_count": null,
   "metadata": {},
   "outputs": [],
   "source": [
    "def conv2_mexh_fft(dem, a, dx):\n",
    "    \"\"\"\n",
    "    Perform the 2D Continuous Wavelet Transform using the Mexican Hat wavelet.\n",
    "    \n",
    "    :param dem: Digital elevation model (2D numpy array).\n",
    "    :param a: Wavelet scale.\n",
    "    :param dx: Grid spacing.\n",
    "    :return: Tuple of (C, frq, wave), the wavelet coefficients and frequencies.\n",
    "    \"\"\"\n",
    "    # Kernel size, assuming the wavelet decays to 0 at the edges\n",
    "    sz = int(np.ceil(8 * a))  \n",
    "    X, Y = np.meshgrid(np.arange(-sz, sz+1), np.arange(-sz, sz+1))\n",
    "\n",
    "    # Scaled Mexican Hat wavelet (psi)\n",
    "    psi = (-1 / (np.pi * (a * dx)**4)) * (1 - (X**2 + Y**2) / (2 * a**2)) * np.exp(-(X**2 + Y**2) / (2 * a**2))\n",
    "\n",
    "    # Convolve dem with psi using FFT for speed optimization\n",
    "    C = scipy.signal.fftconvolve(dem, psi, mode='same')\n",
    "\n",
    "    # Frequency and wavelength calculations\n",
    "    wave = 2 * np.pi * dx * a / np.sqrt(5 / 2)  # Wavelength\n",
    "    frq = 1 / wave  # Frequency\n",
    "\n",
    "    return C, frq, wave"
   ]
  },
  {
   "cell_type": "markdown",
   "metadata": {},
   "source": [
    "Set parameters  \n",
    "'a' = aproximated mexican hat wavelength/4"
   ]
  },
  {
   "cell_type": "code",
   "execution_count": null,
   "metadata": {},
   "outputs": [],
   "source": [
    "a = 4.1  # Wavelet scale\n",
    "dx = 1.8288  # Grid spacing"
   ]
  },
  {
   "cell_type": "markdown",
   "metadata": {},
   "source": [
    "##### Perform the wavelet transform on the entire dataset (for smaller DEM file)"
   ]
  },
  {
   "cell_type": "code",
   "execution_count": null,
   "metadata": {},
   "outputs": [],
   "source": [
    "C_full, frq, wave = conv2_mexh_fft(dem, a, dx)"
   ]
  },
  {
   "cell_type": "markdown",
   "metadata": {},
   "source": [
    "Output data into GeoTIFF (Optimzation made for faster writing)    \n",
    "* Enabling geotiff compression to reduce writing time\n",
    "* Enabling Tile-based writing if needed\n",
    "* Enabling BIGTIFF parameter to allow writing a large GeoTIFF"
   ]
  },
  {
   "cell_type": "code",
   "execution_count": null,
   "metadata": {},
   "outputs": [],
   "source": [
    "# Define georeference system\n",
    "#coord_ref_sys_code = 32149 #NAD38 Washington South\n",
    "#coord_ref_sys_code = 32610 #WGS84_UTM Zone 10N\n",
    "#coord_ref_sys_code = crs.to_epsg() #Use the same georeference code as the original GeoTIFF file\n",
    "\n",
    "# Prepare the metadata for writing the output GeoTIFF\n",
    "meta.update({\n",
    "    'dtype': 'float32',\n",
    "    'nodata': np.nan,\n",
    "    #'crs': f'EPSG:{coord_ref_sys_code}',\n",
    "    'compress': 'lzw',  # Using LZW compression\n",
    "    'tiled': True,      # Writing in tiles\n",
    "    'BIGTIFF': 'IF_SAFER'    # Explicitly use BigTIFF format\n",
    "})\n",
    "\n",
    "# Write the result to a new GeoTIFF\n",
    "with rasterio.open(output_tif_path, 'w', **meta) as dst:\n",
    "    dst.write(C_full, 1)  # Write the computed C_full as the first band"
   ]
  }
 ],
 "metadata": {
  "kernelspec": {
   "display_name": "base",
   "language": "python",
   "name": "python3"
  },
  "language_info": {
   "codemirror_mode": {
    "name": "ipython",
    "version": 3
   },
   "file_extension": ".py",
   "mimetype": "text/x-python",
   "name": "python",
   "nbconvert_exporter": "python",
   "pygments_lexer": "ipython3",
   "version": "3.10.11"
  }
 },
 "nbformat": 4,
 "nbformat_minor": 2
}
