{
 "cells": [
  {
   "cell_type": "markdown",
   "metadata": {},
   "source": [
    "## Topographic Complexity/Variability: Terrain Ruggedness Index (TRI)  \n",
    "Developed in November 2023 by Dr. Larry Syu-Heng Lai (University of Washington)  \n",
    "\n",
    "Recommended reference:\n",
    "* Wilson, M.F.J., O’Connell, B., Brown, C., Guinan, J.C., Grehan, A.J., 2007. Multiscale Terrain Analysis of Multibeam Bathymetry Data for Habitat Mapping on the Continental Slope. Marine Geodesy 30, 3-35. https://doi.org/10.1080/01490410701295962 "
   ]
  },
  {
   "cell_type": "markdown",
   "metadata": {},
   "source": [
    "### Initial setup"
   ]
  },
  {
   "cell_type": "code",
   "execution_count": 34,
   "metadata": {},
   "outputs": [],
   "source": [
    "import numpy as np\n",
    "from scipy.ndimage import generic_filter\n",
    "from numba import jit\n",
    "from tqdm.notebook import tqdm\n",
    "import itertools\n",
    "import rasterio"
   ]
  },
  {
   "cell_type": "markdown",
   "metadata": {},
   "source": [
    "### Define data path"
   ]
  },
  {
   "cell_type": "code",
   "execution_count": 35,
   "metadata": {},
   "outputs": [],
   "source": [
    "# Define your file paths and file names separately\n",
    "input_folder = '/Users/larryslai/Library/CloudStorage/Dropbox/QGIS/WA LiDAR/'\n",
    "input_file_name = 'Test_DEM.tif'\n",
    "#input_file_name = 'Tokeland_DEM.tif'\n",
    "#input_file_name = 'Nemah_DEM.tif'\n",
    "#input_file_name = 'Francies_DEM.tif'\n",
    "\n",
    "output_folder = '/Users/larryslai/Library/CloudStorage/Dropbox/QGIS/WA LiDAR/'\n",
    "output_file_name = 'Test_pyTRI.tif'\n",
    "#output_file_name = 'Tokeland_pyTRI.tif'\n",
    "#output_file_name = 'Nemah_pyTRI.tif'\n",
    "#output_file_name = 'Francies_pyTRI.tif'\n",
    "\n",
    "# Combine folder and file names to create the full paths\n",
    "input_tif_path = input_folder + input_file_name\n",
    "output_tif_path = output_folder + output_file_name"
   ]
  },
  {
   "cell_type": "markdown",
   "metadata": {},
   "source": [
    "### Read a DEM"
   ]
  },
  {
   "cell_type": "code",
   "execution_count": 36,
   "metadata": {},
   "outputs": [],
   "source": [
    "with rasterio.open(input_tif_path) as src:\n",
    "    dem = src.read(1)  # Read the first band into a 2D array\n",
    "    meta = src.meta"
   ]
  },
  {
   "cell_type": "markdown",
   "metadata": {},
   "source": [
    "See coordinate system info of the GeoTIFF"
   ]
  },
  {
   "cell_type": "code",
   "execution_count": 37,
   "metadata": {},
   "outputs": [
    {
     "name": "stdout",
     "output_type": "stream",
     "text": [
      "CRS: PROJCS[\"NAD83(HARN) / Washington South (ftUS)\",GEOGCS[\"NAD83(HARN)\",DATUM[\"North_American_1983_HARN\",SPHEROID[\"GRS 1980\",6378137,298.257222101004,AUTHORITY[\"EPSG\",\"7019\"]]],PRIMEM[\"Greenwich\",0],UNIT[\"degree\",0.0174532925199433,AUTHORITY[\"EPSG\",\"9122\"]]],PROJECTION[\"Lambert_Conformal_Conic_2SP\"],PARAMETER[\"latitude_of_origin\",45.3333333333333],PARAMETER[\"central_meridian\",-120.5],PARAMETER[\"standard_parallel_1\",45.8333333333333],PARAMETER[\"standard_parallel_2\",47.3333333333333],PARAMETER[\"false_easting\",1640416.66666667],PARAMETER[\"false_northing\",0],UNIT[\"US survey foot\",0.304800609601219,AUTHORITY[\"EPSG\",\"9003\"]],AXIS[\"Easting\",EAST],AXIS[\"Northing\",NORTH]]\n",
      "CRS as WKT: PROJCS[\"NAD83(HARN) / Washington South (ftUS)\",GEOGCS[\"NAD83(HARN)\",DATUM[\"North_American_1983_HARN\",SPHEROID[\"GRS 1980\",6378137,298.257222101004,AUTHORITY[\"EPSG\",\"7019\"]]],PRIMEM[\"Greenwich\",0],UNIT[\"degree\",0.0174532925199433,AUTHORITY[\"EPSG\",\"9122\"]]],PROJECTION[\"Lambert_Conformal_Conic_2SP\"],PARAMETER[\"latitude_of_origin\",45.3333333333333],PARAMETER[\"central_meridian\",-120.5],PARAMETER[\"standard_parallel_1\",45.8333333333333],PARAMETER[\"standard_parallel_2\",47.3333333333333],PARAMETER[\"false_easting\",1640416.66666667],PARAMETER[\"false_northing\",0],UNIT[\"US survey foot\",0.304800609601219,AUTHORITY[\"EPSG\",\"9003\"]],AXIS[\"Easting\",EAST],AXIS[\"Northing\",NORTH]]\n",
      "CRS as PROJ string: +proj=lcc +lat_0=45.3333333333333 +lon_0=-120.5 +lat_1=45.8333333333333 +lat_2=47.3333333333333 +x_0=500000.000000001 +y_0=0 +ellps=GRS80 +units=us-ft +no_defs=True\n",
      "CRS as EPSG code: None\n",
      "CRS as dictionary: {'proj': 'lcc', 'lat_0': 45.3333333333333, 'lon_0': -120.5, 'lat_1': 45.8333333333333, 'lat_2': 47.3333333333333, 'x_0': 500000.000000001, 'y_0': 0, 'ellps': 'GRS80', 'units': 'us-ft', 'no_defs': True}\n"
     ]
    }
   ],
   "source": [
    "# Open the GeoTIFF file\n",
    "with rasterio.open(input_tif_path) as src:\n",
    "    # Read the CRS\n",
    "    crs = src.crs\n",
    "    \n",
    "    # Print the CRS information\n",
    "    print(f\"CRS: {crs}\")\n",
    "    print(f\"CRS as WKT: {crs.wkt}\")\n",
    "    print(f\"CRS as PROJ string: {crs.to_proj4()}\")\n",
    "    print(f\"CRS as EPSG code: {crs.to_epsg()}\")\n",
    "    print(f\"CRS as dictionary: {crs.to_dict()}\")"
   ]
  },
  {
   "cell_type": "markdown",
   "metadata": {},
   "source": [
    "## Terrain Ruggedness Index (TRI)\n",
    "\n",
    "The Terrain Ruggedness Index (TRI) is a measure used to quantify the topographic heterogeneity or complexity of a landscape. It is calculated by summarizing the change in elevation between a central pixel and its surrounding pixels within a specified window. The TRI is defined for a window of size $ n \\times n $ by the following equation:\n",
    "\n",
    "$$\n",
    "TRI(n) = \\frac{\\sum_{i=-N}^{N} \\sum_{j=-N}^{N} | Z_{ij} - Z_{00} |}{n^2 - 1}\n",
    "$$\n",
    "\n",
    "where:\n",
    "- $Z_{ij}$ represents the elevation of the pixel at the $i^{th}$ row and $j^{th}$ column within the window,\n",
    "- $Z_{00}$ is the elevation of the central pixel,\n",
    "- $N$ is defined as $(n-1) / 2$, representing the extent of the window around the central pixel.\n",
    "\n",
    "TRI provides a single value representing the average absolute difference in elevation between the central pixel and its neighbors, thereby characterizing the local roughness or ruggedness of the terrain.\n"
   ]
  },
  {
   "cell_type": "markdown",
   "metadata": {},
   "source": [
    "##### Terrain Ruggedness Index (TRI) function  \n",
    "* Enabling Numba to speed up the execution of functions that use NumPy arrays and loops"
   ]
  },
  {
   "cell_type": "code",
   "execution_count": 38,
   "metadata": {},
   "outputs": [],
   "source": [
    "# Shared counter that will be updated during the TRI calculation\n",
    "counter = itertools.count()\n",
    "\n",
    "# Define a Numba-optimized function for TRI calculation\n",
    "@jit(nopython=True)\n",
    "def tri_func(window, window_size):\n",
    "    center_pixel = window[window_size**2 // 2]\n",
    "    diff_sum = 0.0\n",
    "    for w in window:\n",
    "        diff_sum += np.abs(w - center_pixel)\n",
    "    return diff_sum / (window_size**2 - 1)\n",
    "\n",
    "def tri_filter_wrapper(dem, window_size):\n",
    "    \"\"\"\n",
    "    Wrapper for the generic_filter function to update the progress bar.\n",
    "    \n",
    "    :param dem: A 2D numpy array of the DEM.\n",
    "    :param window_size: The size of the window to calculate TRI (must be an odd number).\n",
    "    :return: A 2D numpy array of the TRI.\n",
    "    \"\"\"\n",
    "    def filter_func(window):\n",
    "        next(counter)  # Update the shared counter\n",
    "        return tri_func(window, window_size)\n",
    "    \n",
    "    return generic_filter(dem, filter_func, size=(window_size, window_size))\n",
    "\n",
    "def calculate_TRI(dem, window_size):\n",
    "    \"\"\"\n",
    "    Calculate the Terrain Ruggedness Index (TRI) for a digital elevation model (DEM).\n",
    "    \n",
    "    :param dem: A 2D numpy array of the DEM.\n",
    "    :param window_size: The size of the window to calculate TRI (must be an odd number).\n",
    "    :return: A 2D numpy array of the TRI.\n",
    "    \"\"\"\n",
    "    # Reset the shared counter\n",
    "    global counter\n",
    "    counter = itertools.count()\n",
    "    \n",
    "    # Calculate the total number of windows to process\n",
    "    total_windows = (dem.shape[0] - window_size + 1) * (dem.shape[1] - window_size + 1)\n",
    "    \n",
    "    # Create a tqdm progress bar\n",
    "    pbar = tqdm(total=total_windows, desc='Calculating TRI')\n",
    "    \n",
    "    # Apply the TRI filter wrapper and update the progress bar\n",
    "    TRI = tri_filter_wrapper(dem, window_size)\n",
    "    \n",
    "    # Update the progress bar\n",
    "    pbar.update(total_windows)\n",
    "    pbar.close()\n",
    "    \n",
    "    return TRI"
   ]
  },
  {
   "cell_type": "markdown",
   "metadata": {},
   "source": [
    "Calculate TRI with a given window"
   ]
  },
  {
   "cell_type": "code",
   "execution_count": 39,
   "metadata": {},
   "outputs": [
    {
     "data": {
      "application/vnd.jupyter.widget-view+json": {
       "model_id": "925a59911b4145edab2d75e0b471564f",
       "version_major": 2,
       "version_minor": 0
      },
      "text/plain": [
       "Calculating TRI:   0%|          | 0/1849766 [00:00<?, ?it/s]"
      ]
     },
     "metadata": {},
     "output_type": "display_data"
    }
   ],
   "source": [
    "# Calculate with a N x N window as an example\n",
    "window_size = 3 # Replace with the desired window size\n",
    "TRI = calculate_TRI(dem, window_size)"
   ]
  },
  {
   "cell_type": "markdown",
   "metadata": {},
   "source": [
    "Output data into GeoTIFF\n",
    "* Enabling geotiff compression to reduce writing time\n",
    "* Enabling Tile-based writing if needed\n",
    "* Enabling BIGTIFF parameter to allow writing a large GeoTIFF"
   ]
  },
  {
   "cell_type": "code",
   "execution_count": 40,
   "metadata": {},
   "outputs": [],
   "source": [
    "# Update metadata for output GeoTIFF\n",
    "meta.update(dtype=rasterio.float32, compress='lzw', tiled=True, bigtiff='IF_SAFER')\n",
    "\n",
    "# Write TRI to a new GeoTIFF\n",
    "with rasterio.open(output_tif_path, 'w', **meta) as dst:\n",
    "    dst.write(TRI.astype(rasterio.float32), 1)"
   ]
  },
  {
   "cell_type": "markdown",
   "metadata": {},
   "source": []
  }
 ],
 "metadata": {
  "kernelspec": {
   "display_name": "base",
   "language": "python",
   "name": "python3"
  },
  "language_info": {
   "codemirror_mode": {
    "name": "ipython",
    "version": 3
   },
   "file_extension": ".py",
   "mimetype": "text/x-python",
   "name": "python",
   "nbconvert_exporter": "python",
   "pygments_lexer": "ipython3",
   "version": "3.10.11"
  }
 },
 "nbformat": 4,
 "nbformat_minor": 2
}
