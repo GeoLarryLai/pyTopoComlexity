{
 "cells": [
  {
   "cell_type": "markdown",
   "metadata": {},
   "source": [
    "## Topographic Complexity/Variability: Fractal Dimension   \n",
    "Developed in November 2023 by Dr. Larry Syu-Heng Lai (University of Washington)  \n",
    "\n",
    "Recommended reference:\n",
    "* Mark, D.M., Aronson, P.B., 1984. Scale-dependent fractal dimensions of topographic surfaces: An empirical investigation, with applications in geomorphology and computer mapping. Journal of the International Association for Mathematical Geology 16, 671-683. https://doi.org/10.1007/BF01033029\n",
    "* Taud, H., Parrot, J.-F., 2006. Measurement of DEM roughness using the local fractal dimension. Géomorphologie : relief, processus, environnement 4. https://doi.org/10.4000/geomorphologie.622.\n",
    "* Wilson, M.F.J., O’Connell, B., Brown, C., Guinan, J.C., Grehan, A.J., 2007. Multiscale Terrain Analysis of Multibeam Bathymetry Data for Habitat Mapping on the Continental Slope. Marine Geodesy 30, 3-35. https://doi.org/10.1080/01490410701295962 "
   ]
  },
  {
   "cell_type": "markdown",
   "metadata": {},
   "source": [
    "### Initial setup"
   ]
  },
  {
   "cell_type": "code",
   "execution_count": null,
   "metadata": {},
   "outputs": [],
   "source": [
    "import numpy as np\n",
    "from numba import njit\n",
    "from joblib import Parallel, delayed\n",
    "import rasterio\n",
    "from rasterio.windows import Window\n",
    "from tqdm.notebook import tqdm"
   ]
  },
  {
   "cell_type": "markdown",
   "metadata": {},
   "source": [
    "### Define data path"
   ]
  },
  {
   "cell_type": "code",
   "execution_count": null,
   "metadata": {},
   "outputs": [],
   "source": [
    "# Define your file paths and file names separately\n",
    "input_folder = '/Users/larryslai/Library/CloudStorage/Dropbox/QGIS/WA LiDAR/'\n",
    "#input_file_name = 'Test_DEM.tif'\n",
    "#input_file_name = 'Tokeland_DEM.tif'\n",
    "#input_file_name = 'Nemah_DEM.tif'\n",
    "input_file_name = 'Francies_DEM.tif'\n",
    "\n",
    "output_folder = '/Users/larryslai/Library/CloudStorage/Dropbox/QGIS/WA LiDAR/'\n",
    "#output_file_name = 'Test_pyFD.tif'\n",
    "#output_file_name = 'Tokeland_pyFD.tif'\n",
    "#output_file_name = 'Nemah_pyFD.tif'\n",
    "output_file_name = 'Francies_pyFD.tif'\n",
    "\n",
    "# Combine folder and file names to create the full paths\n",
    "input_tif_path = input_folder + input_file_name\n",
    "output_tif_path = output_folder + output_file_name"
   ]
  },
  {
   "cell_type": "markdown",
   "metadata": {},
   "source": [
    "### Read a DEM"
   ]
  },
  {
   "cell_type": "code",
   "execution_count": null,
   "metadata": {},
   "outputs": [],
   "source": [
    "# Open the input GeoTIFF file\n",
    "with rasterio.open(input_tif_path) as src:\n",
    "    # Read the first band (assumed to be elevation data)\n",
    "    dem = src.read(1)\n",
    "    # Retrieve the metadata from the source GeoTIFF to use for the output\n",
    "    meta = src.meta"
   ]
  },
  {
   "cell_type": "markdown",
   "metadata": {},
   "source": [
    "## Fractal Dimension (D)\n",
    "\n",
    "Fractal dimension (D) is a measure of surface complexity, where higher values indicate more complex terrain. The calculation of fractal dimension using the variogram method consists of the following steps:\n",
    "\n",
    "1. **Variogram Calculation**: The variogram is a function that quantifies the spatial variation of the terrain by calculating the semivariance of pixel elevation values at different lags (distances). The semivariance $ \\gamma(h) $ for a lag $ h $ is computed using the formula:\n",
    "\n",
    "$$\n",
    "\\gamma(h) = \\frac{1}{2n(h)} \\sum_{i=1}^{n} \\sum_{j=1}^{n} (z_i - z_j)^2\n",
    "$$\n",
    "\n",
    "where:\n",
    "- $ \\gamma(h) $ is the semivariance at lag $ h $,\n",
    "- $ n(h) $ is the number of pixel pairs at lag $ h $,\n",
    "- $ z_i $, $ z_j $ are the elevation values of the pixel pairs.\n",
    "- lag $h$ is the horizontal distance between the points/pixels\n",
    "\n",
    "2. **Log-Log Regression**: The log-log regression is performed on the calculated variogram values. This involves plotting the log of the variogram values against the log of the lag distances and fitting a straight line to the points.\n",
    "\n",
    "3. **Fractal Dimension Estimation**: The fractal dimension ($D$) thus provides a scalar value that characterizes the complexity of the terrain surface. A higher fractal dimension indicates a more complex and rough surface. The fractal dimension is estimated from the slope ($ m $) of the regression line obtained in the log-log plot. For the squared heigh differences ($(z_i - z_j)^2$) is computed for different distances, the relationship between slope $m$ and fractal dimension $D$ is (Mark & Aronson, 1984):\n",
    "\n",
    "$$\n",
    "D = 3 - \\frac{m}{2}\n",
    "$$\n",
    "\n",
    "### Calculating local Fractal Dimension (D) to detect spatial variation in surface complexity\n",
    "\n",
    "In heterogeneous landscapes, the fractal dimension can vary across the terrain. To capture this spatial variation, the fractal dimension is calculated locally for each pixel within a moving window. The local variogram method is applied, which computes the variogram for each cell based on its surrounding neighborhood defined by the window size. The log-log regression is then performed for each local window, resulting in a raster where each pixel's value represents the local fractal dimension of the surface around that pixel.\n",
    "\n",
    "This approach allows for the assessment of spatial variations in terrain complexity, which can be crucial for applications such as habitat mapping and geomorphological analysis.\n",
    "\n",
    "* Details methods follow Taud & Parrot (2006)"
   ]
  },
  {
   "cell_type": "markdown",
   "metadata": {},
   "source": [
    "##### Functions"
   ]
  },
  {
   "cell_type": "code",
   "execution_count": null,
   "metadata": {},
   "outputs": [],
   "source": [
    "def FDfunctions(window, hw):\n",
    "    \"\"\"\n",
    "    Calculate the fractal dimension for the window using the box-counting method.\n",
    "    \n",
    "    :param window: 2D array of the moving window values.\n",
    "    :param hw: Half of the window size.\n",
    "    :return: Fractal dimension of the window.\n",
    "    \"\"\"\n",
    "    # The center pixel's value\n",
    "    center_pixel = window[hw, hw]\n",
    "\n",
    "    # Calculate the number of voxels for each pixel in the window\n",
    "    V = np.empty((window_size, window_size))\n",
    "    count = 0\n",
    "    for j in range(-hw, hw + 1):\n",
    "        for k in range(-hw, hw + 1):\n",
    "            T = window[hw + j, hw + k] - center_pixel\n",
    "            if T < 0:\n",
    "                V[hw + j, hw + k] = 0\n",
    "            elif T > window_size:\n",
    "                V[hw + j, hw + k] = window_size\n",
    "            else:\n",
    "                V[hw + j, hw + k] = T\n",
    "            count += 1\n",
    "\n",
    "    # Calculate the maximum number of voxels for varying box splitting\n",
    "    list_box_sizes = [j for j in range(1, hw + 1) if hw % j == 0]\n",
    "    Ns = np.empty(len(list_box_sizes))\n",
    "    for i, q in enumerate(list_box_sizes):\n",
    "        Ns[i] = max(V[k * q:(k + 1) * q, j * q:(j + 1) * q].sum() for k in range(window_size // q) for j in range(window_size // q)) / q\n",
    "    \n",
    "    # Avoid taking log of zero by adding a small epsilon where Ns is zero\n",
    "    Ns = np.where(Ns == 0, np.nan, Ns)\n",
    "\n",
    "    x = np.log(list_box_sizes)\n",
    "    y = np.log(Ns)\n",
    "\n",
    "    # Filter out non-finite values that may cause warnings\n",
    "    finite_mask = np.isfinite(x) & np.isfinite(y)\n",
    "    x = x[finite_mask]\n",
    "    y = y[finite_mask]\n",
    "\n",
    "    # Avoid regression if we have less than two points\n",
    "    if 0 <= len(y) < 2:\n",
    "        return np.nan\n",
    "    \n",
    "    m_x, m_y = np.mean(x), np.mean(y)\n",
    "    SS_xy = np.sum(y * x) - len(x) * m_y * m_x\n",
    "    SS_xx = np.sum(x * x) - len(x) * m_x * m_x\n",
    "\n",
    "    slope = SS_xy / SS_xx\n",
    "\n",
    "    # The fractal dimension D is the opposite of the slope\n",
    "    D = 3 - (slope/2)\n",
    "    return D"
   ]
  },
  {
   "cell_type": "code",
   "execution_count": null,
   "metadata": {},
   "outputs": [],
   "source": [
    "def process_window(dem, i, j, hw):\n",
    "    window = dem[i-hw:i+hw+1, j-hw:j+hw+1]\n",
    "    return FDfunctions(window, hw)"
   ]
  },
  {
   "cell_type": "markdown",
   "metadata": {},
   "source": [
    "##### Enable chunck processing to avoid RAM issues"
   ]
  },
  {
   "cell_type": "code",
   "execution_count": null,
   "metadata": {},
   "outputs": [],
   "source": [
    "def dem_chunks_with_overlap(dem, window_size, chunk_size):\n",
    "    hw = window_size // 2\n",
    "    overlap = window_size // 2\n",
    "    stride = chunk_size - overlap  # The effective stride\n",
    "\n",
    "    # Calculate the number of chunks in each dimension\n",
    "    num_chunks_y = (dem.shape[0] - overlap + stride - 1) // stride\n",
    "    num_chunks_x = (dem.shape[1] - overlap + stride - 1) // stride\n",
    "\n",
    "    for i_chunk in range(num_chunks_y):\n",
    "        for j_chunk in range(num_chunks_x):\n",
    "            # Calculate the start and end indices of the chunk\n",
    "            i_start = i_chunk * stride\n",
    "            j_start = j_chunk * stride\n",
    "            i_end = i_start + chunk_size + overlap\n",
    "            j_end = j_start + chunk_size + overlap\n",
    "\n",
    "            # Ensure we don't go out of bounds on the last chunk\n",
    "            i_end = min(i_end, dem.shape[0])\n",
    "            j_end = min(j_end, dem.shape[1])\n",
    "\n",
    "            # Extract the chunk\n",
    "            chunk = dem[i_start:i_end, j_start:j_end]\n",
    "            yield chunk, (i_start, j_start)\n"
   ]
  },
  {
   "cell_type": "code",
   "execution_count": null,
   "metadata": {},
   "outputs": [],
   "source": [
    "def compute_fractal_dimensions_in_chunks(dem, window_size, chunk_size):\n",
    "    fractal_dimension_map = np.full(dem.shape, np.nan, dtype=np.float32)\n",
    "    hw = window_size // 2\n",
    "\n",
    "    # Calculate total number of chunks for the progress bar\n",
    "    total_chunks = (((dem.shape[0] - window_size) // (chunk_size - window_size + 1)) + 1) * \\\n",
    "                   (((dem.shape[1] - window_size) // (chunk_size - window_size + 1)) + 1)\n",
    "\n",
    "    # Wrap the dem_chunks_with_overlap call with tqdm for a progress bar\n",
    "    for chunk, (i_start, j_start) in tqdm(dem_chunks_with_overlap(dem, window_size, chunk_size), total=total_chunks, desc='Computing Fractal Dimensions'):\n",
    "        local_indices = [(i, j) for i in range(hw, chunk.shape[0] - hw)\n",
    "                               for j in range(hw, chunk.shape[1] - hw)]\n",
    "        \n",
    "        # Compute the fractal dimensions for the chunk\n",
    "        fractal_dimensions = Parallel(n_jobs=-1)(\n",
    "            delayed(process_window)(chunk, i, j, hw) for i, j in local_indices\n",
    "        )\n",
    "\n",
    "        # Write the computed fractal dimensions into the correct position in the map\n",
    "        for ((i_local, j_local), fractal_dimension) in zip(local_indices, fractal_dimensions):\n",
    "            i_global = i_start + i_local - hw\n",
    "            j_global = j_start + j_local - hw\n",
    "            if 0 <= i_global < fractal_dimension_map.shape[0] and 0 <= j_global < fractal_dimension_map.shape[1]:\n",
    "                fractal_dimension_map[i_global, j_global] = fractal_dimension\n",
    "\n",
    "    return fractal_dimension_map"
   ]
  },
  {
   "cell_type": "code",
   "execution_count": null,
   "metadata": {},
   "outputs": [],
   "source": [
    "def read_input_geotiff(input_tiff_path):\n",
    "    with rasterio.open(input_tiff_path) as src:\n",
    "        dem = src.read(1)\n",
    "        profile = src.profile\n",
    "    return dem, profile\n",
    "\n",
    "def write_output_geotiff(fractal_dimension_map, profile, output_tiff_path):\n",
    "    profile.update(dtype=rasterio.float32, compress='lzw', tiled=True, bigtiff='IF_SAFER')\n",
    "    with rasterio.open(output_tiff_path, 'w', **profile) as dst:\n",
    "        dst.write(fractal_dimension_map.astype(rasterio.float32), 1)"
   ]
  },
  {
   "cell_type": "markdown",
   "metadata": {},
   "source": [
    "##### Output data into GeoTIFF  "
   ]
  },
  {
   "cell_type": "code",
   "execution_count": null,
   "metadata": {},
   "outputs": [],
   "source": [
    "window_size = 15  # The desired window size for the fractal dimension calculation (odd numbers)\n",
    "chunk_size = 1024  # Define the chunk size without overlap\n",
    "\n",
    "# Read the input GeoTIFF\n",
    "dem, profile = read_input_geotiff(input_tif_path)\n",
    "\n",
    "# Compute the fractal dimensions in chunks with overlap\n",
    "fractal_dimension_map = compute_fractal_dimensions_in_chunks(dem, window_size, chunk_size)\n"
   ]
  },
  {
   "cell_type": "code",
   "execution_count": null,
   "metadata": {},
   "outputs": [],
   "source": [
    "# Write the results to the output GeoTIFF\n",
    "write_output_geotiff(fractal_dimension_map, profile, output_tif_path)"
   ]
  }
 ],
 "metadata": {
  "kernelspec": {
   "display_name": "base",
   "language": "python",
   "name": "python3"
  },
  "language_info": {
   "codemirror_mode": {
    "name": "ipython",
    "version": 3
   },
   "file_extension": ".py",
   "mimetype": "text/x-python",
   "name": "python",
   "nbconvert_exporter": "python",
   "pygments_lexer": "ipython3",
   "version": "3.10.11"
  }
 },
 "nbformat": 4,
 "nbformat_minor": 2
}
